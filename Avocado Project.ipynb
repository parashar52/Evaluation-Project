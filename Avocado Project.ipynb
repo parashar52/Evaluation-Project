{
 "cells": [
  {
   "cell_type": "markdown",
   "id": "79a3013d",
   "metadata": {},
   "source": [
    "# Fliprobo Evaluation Project"
   ]
  },
  {
   "cell_type": "markdown",
   "id": "c9b220e3",
   "metadata": {},
   "source": [
    "# Avocado Project"
   ]
  },
  {
   "cell_type": "markdown",
   "id": "2cc7ea82",
   "metadata": {},
   "source": [
    "# Project Description"
   ]
  },
  {
   "cell_type": "markdown",
   "id": "0990c222",
   "metadata": {},
   "source": [
    "This data was downloaded from the Hass Avocado Board website in May of 2018 & compiled into a single CSV. \n",
    "The table below represents weekly 2018 retail scan data for National retail volume (units) and price. \n",
    "Retail scan data comes directly from retailers’ cash registers based on actual retail sales of Hass avocados. \n",
    "Starting in 2013, the table below reflects an expanded, multi-outlet retail data set. Multi-outlet reporting \n",
    "includes an aggregation of the following channels: grocery, mass, club, drug, dollar and military. The Average\n",
    "    Price (of avocados) in the table reflects a per unit (per avocado) cost, even when multiple units (avocados) \n",
    "    are sold in bags. \n",
    "The Product Lookup codes (PLU’s) in the table are only for Hass avocados. Other varieties of avocados \n",
    "(e.g. greenskins) are not included in this table\n"
   ]
  },
  {
   "cell_type": "markdown",
   "id": "7d833f72",
   "metadata": {},
   "source": [
    "•Date - The date of the observation\n",
    "\n",
    "•AveragePrice - the average price of a single avocado\n",
    "\n",
    "•type - conventional or organic\n",
    "\n",
    "•year - the year\n",
    "\n",
    "•Region - the city or region of the observation\n",
    "\n",
    "•Total Volume - Total number of avocados sold\n",
    "\n",
    "•4046 - Total number of avocados with PLU 4046 sold\n",
    "\n",
    "•4225 - Total number of avocados with PLU 4225 sold\n",
    "\n",
    "•4770 - Total number of avocados with PLU 4770 sold\n",
    "\n"
   ]
  },
  {
   "cell_type": "markdown",
   "id": "e508bc73",
   "metadata": {},
   "source": [
    "# Target /Label \n",
    "The dataset can be seen in two angles to find the region and find the average price .\n",
    "Task: One of Classification and other of Regression\n"
   ]
  },
  {
   "cell_type": "code",
   "execution_count": 1,
   "id": "2677637f",
   "metadata": {},
   "outputs": [],
   "source": [
    "#importing required libraries\n",
    "import pandas as pd\n",
    "import numpy as np\n",
    "import seaborn as sns\n",
    "import matplotlib.pyplot as plt"
   ]
  },
  {
   "cell_type": "code",
   "execution_count": 2,
   "id": "4dd6cf64",
   "metadata": {},
   "outputs": [
    {
     "data": {
      "text/html": [
       "<div>\n",
       "<style scoped>\n",
       "    .dataframe tbody tr th:only-of-type {\n",
       "        vertical-align: middle;\n",
       "    }\n",
       "\n",
       "    .dataframe tbody tr th {\n",
       "        vertical-align: top;\n",
       "    }\n",
       "\n",
       "    .dataframe thead th {\n",
       "        text-align: right;\n",
       "    }\n",
       "</style>\n",
       "<table border=\"1\" class=\"dataframe\">\n",
       "  <thead>\n",
       "    <tr style=\"text-align: right;\">\n",
       "      <th></th>\n",
       "      <th>Date</th>\n",
       "      <th>AveragePrice</th>\n",
       "      <th>Total Volume</th>\n",
       "      <th>4046</th>\n",
       "      <th>4225</th>\n",
       "      <th>4770</th>\n",
       "      <th>Total Bags</th>\n",
       "      <th>Small Bags</th>\n",
       "      <th>Large Bags</th>\n",
       "      <th>XLarge Bags</th>\n",
       "      <th>type</th>\n",
       "      <th>year</th>\n",
       "      <th>region</th>\n",
       "    </tr>\n",
       "  </thead>\n",
       "  <tbody>\n",
       "    <tr>\n",
       "      <th>0</th>\n",
       "      <td>12/27/2015</td>\n",
       "      <td>1.33</td>\n",
       "      <td>64236.62</td>\n",
       "      <td>1036.74</td>\n",
       "      <td>54454.85</td>\n",
       "      <td>48.16</td>\n",
       "      <td>8696.87</td>\n",
       "      <td>8603.62</td>\n",
       "      <td>93.25</td>\n",
       "      <td>0.0</td>\n",
       "      <td>conventional</td>\n",
       "      <td>2015</td>\n",
       "      <td>Albany</td>\n",
       "    </tr>\n",
       "    <tr>\n",
       "      <th>1</th>\n",
       "      <td>12/20/2015</td>\n",
       "      <td>1.35</td>\n",
       "      <td>54876.98</td>\n",
       "      <td>674.28</td>\n",
       "      <td>44638.81</td>\n",
       "      <td>58.33</td>\n",
       "      <td>9505.56</td>\n",
       "      <td>9408.07</td>\n",
       "      <td>97.49</td>\n",
       "      <td>0.0</td>\n",
       "      <td>conventional</td>\n",
       "      <td>2015</td>\n",
       "      <td>Albany</td>\n",
       "    </tr>\n",
       "    <tr>\n",
       "      <th>2</th>\n",
       "      <td>12/13/2015</td>\n",
       "      <td>0.93</td>\n",
       "      <td>118220.22</td>\n",
       "      <td>794.70</td>\n",
       "      <td>109149.67</td>\n",
       "      <td>130.50</td>\n",
       "      <td>8145.35</td>\n",
       "      <td>8042.21</td>\n",
       "      <td>103.14</td>\n",
       "      <td>0.0</td>\n",
       "      <td>conventional</td>\n",
       "      <td>2015</td>\n",
       "      <td>Albany</td>\n",
       "    </tr>\n",
       "    <tr>\n",
       "      <th>3</th>\n",
       "      <td>12/6/2015</td>\n",
       "      <td>1.08</td>\n",
       "      <td>78992.15</td>\n",
       "      <td>1132.00</td>\n",
       "      <td>71976.41</td>\n",
       "      <td>72.58</td>\n",
       "      <td>5811.16</td>\n",
       "      <td>5677.40</td>\n",
       "      <td>133.76</td>\n",
       "      <td>0.0</td>\n",
       "      <td>conventional</td>\n",
       "      <td>2015</td>\n",
       "      <td>Albany</td>\n",
       "    </tr>\n",
       "    <tr>\n",
       "      <th>4</th>\n",
       "      <td>11/29/2015</td>\n",
       "      <td>1.28</td>\n",
       "      <td>51039.60</td>\n",
       "      <td>941.48</td>\n",
       "      <td>43838.39</td>\n",
       "      <td>75.78</td>\n",
       "      <td>6183.95</td>\n",
       "      <td>5986.26</td>\n",
       "      <td>197.69</td>\n",
       "      <td>0.0</td>\n",
       "      <td>conventional</td>\n",
       "      <td>2015</td>\n",
       "      <td>Albany</td>\n",
       "    </tr>\n",
       "    <tr>\n",
       "      <th>...</th>\n",
       "      <td>...</td>\n",
       "      <td>...</td>\n",
       "      <td>...</td>\n",
       "      <td>...</td>\n",
       "      <td>...</td>\n",
       "      <td>...</td>\n",
       "      <td>...</td>\n",
       "      <td>...</td>\n",
       "      <td>...</td>\n",
       "      <td>...</td>\n",
       "      <td>...</td>\n",
       "      <td>...</td>\n",
       "      <td>...</td>\n",
       "    </tr>\n",
       "    <tr>\n",
       "      <th>18244</th>\n",
       "      <td>2/4/2018</td>\n",
       "      <td>1.63</td>\n",
       "      <td>17074.83</td>\n",
       "      <td>2046.96</td>\n",
       "      <td>1529.20</td>\n",
       "      <td>0.00</td>\n",
       "      <td>13498.67</td>\n",
       "      <td>13066.82</td>\n",
       "      <td>431.85</td>\n",
       "      <td>0.0</td>\n",
       "      <td>organic</td>\n",
       "      <td>2018</td>\n",
       "      <td>WestTexNewMexico</td>\n",
       "    </tr>\n",
       "    <tr>\n",
       "      <th>18245</th>\n",
       "      <td>1/28/2018</td>\n",
       "      <td>1.71</td>\n",
       "      <td>13888.04</td>\n",
       "      <td>1191.70</td>\n",
       "      <td>3431.50</td>\n",
       "      <td>0.00</td>\n",
       "      <td>9264.84</td>\n",
       "      <td>8940.04</td>\n",
       "      <td>324.80</td>\n",
       "      <td>0.0</td>\n",
       "      <td>organic</td>\n",
       "      <td>2018</td>\n",
       "      <td>WestTexNewMexico</td>\n",
       "    </tr>\n",
       "    <tr>\n",
       "      <th>18246</th>\n",
       "      <td>1/21/2018</td>\n",
       "      <td>1.87</td>\n",
       "      <td>13766.76</td>\n",
       "      <td>1191.92</td>\n",
       "      <td>2452.79</td>\n",
       "      <td>727.94</td>\n",
       "      <td>9394.11</td>\n",
       "      <td>9351.80</td>\n",
       "      <td>42.31</td>\n",
       "      <td>0.0</td>\n",
       "      <td>organic</td>\n",
       "      <td>2018</td>\n",
       "      <td>WestTexNewMexico</td>\n",
       "    </tr>\n",
       "    <tr>\n",
       "      <th>18247</th>\n",
       "      <td>1/14/2018</td>\n",
       "      <td>1.93</td>\n",
       "      <td>16205.22</td>\n",
       "      <td>1527.63</td>\n",
       "      <td>2981.04</td>\n",
       "      <td>727.01</td>\n",
       "      <td>10969.54</td>\n",
       "      <td>10919.54</td>\n",
       "      <td>50.00</td>\n",
       "      <td>0.0</td>\n",
       "      <td>organic</td>\n",
       "      <td>2018</td>\n",
       "      <td>WestTexNewMexico</td>\n",
       "    </tr>\n",
       "    <tr>\n",
       "      <th>18248</th>\n",
       "      <td>1/7/2018</td>\n",
       "      <td>1.62</td>\n",
       "      <td>17489.58</td>\n",
       "      <td>2894.77</td>\n",
       "      <td>2356.13</td>\n",
       "      <td>224.53</td>\n",
       "      <td>12014.15</td>\n",
       "      <td>11988.14</td>\n",
       "      <td>26.01</td>\n",
       "      <td>0.0</td>\n",
       "      <td>organic</td>\n",
       "      <td>2018</td>\n",
       "      <td>WestTexNewMexico</td>\n",
       "    </tr>\n",
       "  </tbody>\n",
       "</table>\n",
       "<p>18249 rows × 13 columns</p>\n",
       "</div>"
      ],
      "text/plain": [
       "             Date  AveragePrice  Total Volume     4046       4225    4770  \\\n",
       "0      12/27/2015          1.33      64236.62  1036.74   54454.85   48.16   \n",
       "1      12/20/2015          1.35      54876.98   674.28   44638.81   58.33   \n",
       "2      12/13/2015          0.93     118220.22   794.70  109149.67  130.50   \n",
       "3       12/6/2015          1.08      78992.15  1132.00   71976.41   72.58   \n",
       "4      11/29/2015          1.28      51039.60   941.48   43838.39   75.78   \n",
       "...           ...           ...           ...      ...        ...     ...   \n",
       "18244    2/4/2018          1.63      17074.83  2046.96    1529.20    0.00   \n",
       "18245   1/28/2018          1.71      13888.04  1191.70    3431.50    0.00   \n",
       "18246   1/21/2018          1.87      13766.76  1191.92    2452.79  727.94   \n",
       "18247   1/14/2018          1.93      16205.22  1527.63    2981.04  727.01   \n",
       "18248    1/7/2018          1.62      17489.58  2894.77    2356.13  224.53   \n",
       "\n",
       "       Total Bags  Small Bags  Large Bags  XLarge Bags          type  year  \\\n",
       "0         8696.87     8603.62       93.25          0.0  conventional  2015   \n",
       "1         9505.56     9408.07       97.49          0.0  conventional  2015   \n",
       "2         8145.35     8042.21      103.14          0.0  conventional  2015   \n",
       "3         5811.16     5677.40      133.76          0.0  conventional  2015   \n",
       "4         6183.95     5986.26      197.69          0.0  conventional  2015   \n",
       "...           ...         ...         ...          ...           ...   ...   \n",
       "18244    13498.67    13066.82      431.85          0.0       organic  2018   \n",
       "18245     9264.84     8940.04      324.80          0.0       organic  2018   \n",
       "18246     9394.11     9351.80       42.31          0.0       organic  2018   \n",
       "18247    10969.54    10919.54       50.00          0.0       organic  2018   \n",
       "18248    12014.15    11988.14       26.01          0.0       organic  2018   \n",
       "\n",
       "                 region  \n",
       "0                Albany  \n",
       "1                Albany  \n",
       "2                Albany  \n",
       "3                Albany  \n",
       "4                Albany  \n",
       "...                 ...  \n",
       "18244  WestTexNewMexico  \n",
       "18245  WestTexNewMexico  \n",
       "18246  WestTexNewMexico  \n",
       "18247  WestTexNewMexico  \n",
       "18248  WestTexNewMexico  \n",
       "\n",
       "[18249 rows x 13 columns]"
      ]
     },
     "execution_count": 2,
     "metadata": {},
     "output_type": "execute_result"
    }
   ],
   "source": [
    "#importing the dataset\n",
    "df=pd.read_csv('avacado1.csv')\n",
    "df"
   ]
  },
  {
   "cell_type": "code",
   "execution_count": 3,
   "id": "0bfe5867",
   "metadata": {},
   "outputs": [
    {
     "data": {
      "text/html": [
       "<div>\n",
       "<style scoped>\n",
       "    .dataframe tbody tr th:only-of-type {\n",
       "        vertical-align: middle;\n",
       "    }\n",
       "\n",
       "    .dataframe tbody tr th {\n",
       "        vertical-align: top;\n",
       "    }\n",
       "\n",
       "    .dataframe thead th {\n",
       "        text-align: right;\n",
       "    }\n",
       "</style>\n",
       "<table border=\"1\" class=\"dataframe\">\n",
       "  <thead>\n",
       "    <tr style=\"text-align: right;\">\n",
       "      <th></th>\n",
       "      <th>Date</th>\n",
       "      <th>AveragePrice</th>\n",
       "      <th>Total Volume</th>\n",
       "      <th>4046</th>\n",
       "      <th>4225</th>\n",
       "      <th>4770</th>\n",
       "      <th>Total Bags</th>\n",
       "      <th>Small Bags</th>\n",
       "      <th>Large Bags</th>\n",
       "      <th>XLarge Bags</th>\n",
       "      <th>type</th>\n",
       "      <th>year</th>\n",
       "      <th>region</th>\n",
       "    </tr>\n",
       "  </thead>\n",
       "  <tbody>\n",
       "    <tr>\n",
       "      <th>0</th>\n",
       "      <td>12/27/2015</td>\n",
       "      <td>1.33</td>\n",
       "      <td>64236.62</td>\n",
       "      <td>1036.74</td>\n",
       "      <td>54454.85</td>\n",
       "      <td>48.16</td>\n",
       "      <td>8696.87</td>\n",
       "      <td>8603.62</td>\n",
       "      <td>93.25</td>\n",
       "      <td>0.0</td>\n",
       "      <td>conventional</td>\n",
       "      <td>2015</td>\n",
       "      <td>Albany</td>\n",
       "    </tr>\n",
       "    <tr>\n",
       "      <th>1</th>\n",
       "      <td>12/20/2015</td>\n",
       "      <td>1.35</td>\n",
       "      <td>54876.98</td>\n",
       "      <td>674.28</td>\n",
       "      <td>44638.81</td>\n",
       "      <td>58.33</td>\n",
       "      <td>9505.56</td>\n",
       "      <td>9408.07</td>\n",
       "      <td>97.49</td>\n",
       "      <td>0.0</td>\n",
       "      <td>conventional</td>\n",
       "      <td>2015</td>\n",
       "      <td>Albany</td>\n",
       "    </tr>\n",
       "    <tr>\n",
       "      <th>2</th>\n",
       "      <td>12/13/2015</td>\n",
       "      <td>0.93</td>\n",
       "      <td>118220.22</td>\n",
       "      <td>794.70</td>\n",
       "      <td>109149.67</td>\n",
       "      <td>130.50</td>\n",
       "      <td>8145.35</td>\n",
       "      <td>8042.21</td>\n",
       "      <td>103.14</td>\n",
       "      <td>0.0</td>\n",
       "      <td>conventional</td>\n",
       "      <td>2015</td>\n",
       "      <td>Albany</td>\n",
       "    </tr>\n",
       "    <tr>\n",
       "      <th>3</th>\n",
       "      <td>12/6/2015</td>\n",
       "      <td>1.08</td>\n",
       "      <td>78992.15</td>\n",
       "      <td>1132.00</td>\n",
       "      <td>71976.41</td>\n",
       "      <td>72.58</td>\n",
       "      <td>5811.16</td>\n",
       "      <td>5677.40</td>\n",
       "      <td>133.76</td>\n",
       "      <td>0.0</td>\n",
       "      <td>conventional</td>\n",
       "      <td>2015</td>\n",
       "      <td>Albany</td>\n",
       "    </tr>\n",
       "    <tr>\n",
       "      <th>4</th>\n",
       "      <td>11/29/2015</td>\n",
       "      <td>1.28</td>\n",
       "      <td>51039.60</td>\n",
       "      <td>941.48</td>\n",
       "      <td>43838.39</td>\n",
       "      <td>75.78</td>\n",
       "      <td>6183.95</td>\n",
       "      <td>5986.26</td>\n",
       "      <td>197.69</td>\n",
       "      <td>0.0</td>\n",
       "      <td>conventional</td>\n",
       "      <td>2015</td>\n",
       "      <td>Albany</td>\n",
       "    </tr>\n",
       "  </tbody>\n",
       "</table>\n",
       "</div>"
      ],
      "text/plain": [
       "         Date  AveragePrice  Total Volume     4046       4225    4770  \\\n",
       "0  12/27/2015          1.33      64236.62  1036.74   54454.85   48.16   \n",
       "1  12/20/2015          1.35      54876.98   674.28   44638.81   58.33   \n",
       "2  12/13/2015          0.93     118220.22   794.70  109149.67  130.50   \n",
       "3   12/6/2015          1.08      78992.15  1132.00   71976.41   72.58   \n",
       "4  11/29/2015          1.28      51039.60   941.48   43838.39   75.78   \n",
       "\n",
       "   Total Bags  Small Bags  Large Bags  XLarge Bags          type  year  region  \n",
       "0     8696.87     8603.62       93.25          0.0  conventional  2015  Albany  \n",
       "1     9505.56     9408.07       97.49          0.0  conventional  2015  Albany  \n",
       "2     8145.35     8042.21      103.14          0.0  conventional  2015  Albany  \n",
       "3     5811.16     5677.40      133.76          0.0  conventional  2015  Albany  \n",
       "4     6183.95     5986.26      197.69          0.0  conventional  2015  Albany  "
      ]
     },
     "execution_count": 3,
     "metadata": {},
     "output_type": "execute_result"
    }
   ],
   "source": [
    "#Checking for top 5 rows\n",
    "df.head()"
   ]
  },
  {
   "cell_type": "code",
   "execution_count": 4,
   "id": "29b3cf42",
   "metadata": {},
   "outputs": [
    {
     "data": {
      "text/html": [
       "<div>\n",
       "<style scoped>\n",
       "    .dataframe tbody tr th:only-of-type {\n",
       "        vertical-align: middle;\n",
       "    }\n",
       "\n",
       "    .dataframe tbody tr th {\n",
       "        vertical-align: top;\n",
       "    }\n",
       "\n",
       "    .dataframe thead th {\n",
       "        text-align: right;\n",
       "    }\n",
       "</style>\n",
       "<table border=\"1\" class=\"dataframe\">\n",
       "  <thead>\n",
       "    <tr style=\"text-align: right;\">\n",
       "      <th></th>\n",
       "      <th>Date</th>\n",
       "      <th>AveragePrice</th>\n",
       "      <th>Total Volume</th>\n",
       "      <th>4046</th>\n",
       "      <th>4225</th>\n",
       "      <th>4770</th>\n",
       "      <th>Total Bags</th>\n",
       "      <th>Small Bags</th>\n",
       "      <th>Large Bags</th>\n",
       "      <th>XLarge Bags</th>\n",
       "      <th>type</th>\n",
       "      <th>year</th>\n",
       "      <th>region</th>\n",
       "    </tr>\n",
       "  </thead>\n",
       "  <tbody>\n",
       "    <tr>\n",
       "      <th>18244</th>\n",
       "      <td>2/4/2018</td>\n",
       "      <td>1.63</td>\n",
       "      <td>17074.83</td>\n",
       "      <td>2046.96</td>\n",
       "      <td>1529.20</td>\n",
       "      <td>0.00</td>\n",
       "      <td>13498.67</td>\n",
       "      <td>13066.82</td>\n",
       "      <td>431.85</td>\n",
       "      <td>0.0</td>\n",
       "      <td>organic</td>\n",
       "      <td>2018</td>\n",
       "      <td>WestTexNewMexico</td>\n",
       "    </tr>\n",
       "    <tr>\n",
       "      <th>18245</th>\n",
       "      <td>1/28/2018</td>\n",
       "      <td>1.71</td>\n",
       "      <td>13888.04</td>\n",
       "      <td>1191.70</td>\n",
       "      <td>3431.50</td>\n",
       "      <td>0.00</td>\n",
       "      <td>9264.84</td>\n",
       "      <td>8940.04</td>\n",
       "      <td>324.80</td>\n",
       "      <td>0.0</td>\n",
       "      <td>organic</td>\n",
       "      <td>2018</td>\n",
       "      <td>WestTexNewMexico</td>\n",
       "    </tr>\n",
       "    <tr>\n",
       "      <th>18246</th>\n",
       "      <td>1/21/2018</td>\n",
       "      <td>1.87</td>\n",
       "      <td>13766.76</td>\n",
       "      <td>1191.92</td>\n",
       "      <td>2452.79</td>\n",
       "      <td>727.94</td>\n",
       "      <td>9394.11</td>\n",
       "      <td>9351.80</td>\n",
       "      <td>42.31</td>\n",
       "      <td>0.0</td>\n",
       "      <td>organic</td>\n",
       "      <td>2018</td>\n",
       "      <td>WestTexNewMexico</td>\n",
       "    </tr>\n",
       "    <tr>\n",
       "      <th>18247</th>\n",
       "      <td>1/14/2018</td>\n",
       "      <td>1.93</td>\n",
       "      <td>16205.22</td>\n",
       "      <td>1527.63</td>\n",
       "      <td>2981.04</td>\n",
       "      <td>727.01</td>\n",
       "      <td>10969.54</td>\n",
       "      <td>10919.54</td>\n",
       "      <td>50.00</td>\n",
       "      <td>0.0</td>\n",
       "      <td>organic</td>\n",
       "      <td>2018</td>\n",
       "      <td>WestTexNewMexico</td>\n",
       "    </tr>\n",
       "    <tr>\n",
       "      <th>18248</th>\n",
       "      <td>1/7/2018</td>\n",
       "      <td>1.62</td>\n",
       "      <td>17489.58</td>\n",
       "      <td>2894.77</td>\n",
       "      <td>2356.13</td>\n",
       "      <td>224.53</td>\n",
       "      <td>12014.15</td>\n",
       "      <td>11988.14</td>\n",
       "      <td>26.01</td>\n",
       "      <td>0.0</td>\n",
       "      <td>organic</td>\n",
       "      <td>2018</td>\n",
       "      <td>WestTexNewMexico</td>\n",
       "    </tr>\n",
       "  </tbody>\n",
       "</table>\n",
       "</div>"
      ],
      "text/plain": [
       "            Date  AveragePrice  Total Volume     4046     4225    4770  \\\n",
       "18244   2/4/2018          1.63      17074.83  2046.96  1529.20    0.00   \n",
       "18245  1/28/2018          1.71      13888.04  1191.70  3431.50    0.00   \n",
       "18246  1/21/2018          1.87      13766.76  1191.92  2452.79  727.94   \n",
       "18247  1/14/2018          1.93      16205.22  1527.63  2981.04  727.01   \n",
       "18248   1/7/2018          1.62      17489.58  2894.77  2356.13  224.53   \n",
       "\n",
       "       Total Bags  Small Bags  Large Bags  XLarge Bags     type  year  \\\n",
       "18244    13498.67    13066.82      431.85          0.0  organic  2018   \n",
       "18245     9264.84     8940.04      324.80          0.0  organic  2018   \n",
       "18246     9394.11     9351.80       42.31          0.0  organic  2018   \n",
       "18247    10969.54    10919.54       50.00          0.0  organic  2018   \n",
       "18248    12014.15    11988.14       26.01          0.0  organic  2018   \n",
       "\n",
       "                 region  \n",
       "18244  WestTexNewMexico  \n",
       "18245  WestTexNewMexico  \n",
       "18246  WestTexNewMexico  \n",
       "18247  WestTexNewMexico  \n",
       "18248  WestTexNewMexico  "
      ]
     },
     "execution_count": 4,
     "metadata": {},
     "output_type": "execute_result"
    }
   ],
   "source": [
    "#checking for bottom 5 rows\n",
    "df.tail()"
   ]
  },
  {
   "cell_type": "code",
   "execution_count": 5,
   "id": "590672e6",
   "metadata": {},
   "outputs": [
    {
     "data": {
      "text/plain": [
       "(18249, 13)"
      ]
     },
     "execution_count": 5,
     "metadata": {},
     "output_type": "execute_result"
    }
   ],
   "source": [
    "#Checking the shape of the dataset\n",
    "df.shape"
   ]
  },
  {
   "cell_type": "markdown",
   "id": "c7e89129",
   "metadata": {},
   "source": [
    "There are 18249 rows and 14 columns"
   ]
  },
  {
   "cell_type": "markdown",
   "id": "1a4e8070",
   "metadata": {},
   "source": [
    "# Exploratory Data Analysis"
   ]
  },
  {
   "cell_type": "code",
   "execution_count": 6,
   "id": "add9e8df",
   "metadata": {},
   "outputs": [
    {
     "data": {
      "text/plain": [
       "Index(['Date', 'AveragePrice', 'Total Volume', '4046', '4225', '4770',\n",
       "       'Total Bags', 'Small Bags', 'Large Bags', 'XLarge Bags', 'type', 'year',\n",
       "       'region'],\n",
       "      dtype='object')"
      ]
     },
     "execution_count": 6,
     "metadata": {},
     "output_type": "execute_result"
    }
   ],
   "source": [
    "#checking for the column names\n",
    "df.columns"
   ]
  },
  {
   "cell_type": "code",
   "execution_count": 7,
   "id": "a98d76a7",
   "metadata": {},
   "outputs": [
    {
     "data": {
      "text/plain": [
       "Date             object\n",
       "AveragePrice    float64\n",
       "Total Volume    float64\n",
       "4046            float64\n",
       "4225            float64\n",
       "4770            float64\n",
       "Total Bags      float64\n",
       "Small Bags      float64\n",
       "Large Bags      float64\n",
       "XLarge Bags     float64\n",
       "type             object\n",
       "year              int64\n",
       "region           object\n",
       "dtype: object"
      ]
     },
     "execution_count": 7,
     "metadata": {},
     "output_type": "execute_result"
    }
   ],
   "source": [
    "#checking for the datatypes\n",
    "df.dtypes"
   ]
  },
  {
   "cell_type": "code",
   "execution_count": 8,
   "id": "093b6ec7",
   "metadata": {},
   "outputs": [
    {
     "name": "stdout",
     "output_type": "stream",
     "text": [
      "<class 'pandas.core.frame.DataFrame'>\n",
      "RangeIndex: 18249 entries, 0 to 18248\n",
      "Data columns (total 13 columns):\n",
      " #   Column        Non-Null Count  Dtype  \n",
      "---  ------        --------------  -----  \n",
      " 0   Date          18249 non-null  object \n",
      " 1   AveragePrice  18249 non-null  float64\n",
      " 2   Total Volume  18249 non-null  float64\n",
      " 3   4046          18249 non-null  float64\n",
      " 4   4225          18249 non-null  float64\n",
      " 5   4770          18249 non-null  float64\n",
      " 6   Total Bags    18249 non-null  float64\n",
      " 7   Small Bags    18249 non-null  float64\n",
      " 8   Large Bags    18249 non-null  float64\n",
      " 9   XLarge Bags   18249 non-null  float64\n",
      " 10  type          18249 non-null  object \n",
      " 11  year          18249 non-null  int64  \n",
      " 12  region        18249 non-null  object \n",
      "dtypes: float64(9), int64(1), object(3)\n",
      "memory usage: 1.8+ MB\n"
     ]
    }
   ],
   "source": [
    "#Checking the information about the dataset\n",
    "df.info()"
   ]
  },
  {
   "cell_type": "code",
   "execution_count": 9,
   "id": "523be824",
   "metadata": {},
   "outputs": [],
   "source": [
    "#separating the numerical and categorical columns in the dataset\n",
    "categorical_col=df.select_dtypes(include=['object','category']).columns.tolist()\n",
    "\n",
    "numerical_col=df.select_dtypes(include=['int64','float64']).columns.tolist()"
   ]
  },
  {
   "cell_type": "code",
   "execution_count": 10,
   "id": "a36e048e",
   "metadata": {},
   "outputs": [
    {
     "name": "stdout",
     "output_type": "stream",
     "text": [
      "The categorical columns are -- ['Date', 'type', 'region']\n",
      "The numerical columns are --  ['AveragePrice', 'Total Volume', '4046', '4225', '4770', 'Total Bags', 'Small Bags', 'Large Bags', 'XLarge Bags', 'year']\n"
     ]
    }
   ],
   "source": [
    "print('The categorical columns are --',categorical_col)\n",
    "print('The numerical columns are -- ',numerical_col)"
   ]
  },
  {
   "cell_type": "code",
   "execution_count": 11,
   "id": "ea66e14d",
   "metadata": {},
   "outputs": [
    {
     "data": {
      "text/html": [
       "<div>\n",
       "<style scoped>\n",
       "    .dataframe tbody tr th:only-of-type {\n",
       "        vertical-align: middle;\n",
       "    }\n",
       "\n",
       "    .dataframe tbody tr th {\n",
       "        vertical-align: top;\n",
       "    }\n",
       "\n",
       "    .dataframe thead th {\n",
       "        text-align: right;\n",
       "    }\n",
       "</style>\n",
       "<table border=\"1\" class=\"dataframe\">\n",
       "  <thead>\n",
       "    <tr style=\"text-align: right;\">\n",
       "      <th></th>\n",
       "      <th>Date</th>\n",
       "      <th>AveragePrice</th>\n",
       "      <th>Total Volume</th>\n",
       "      <th>4046</th>\n",
       "      <th>4225</th>\n",
       "      <th>4770</th>\n",
       "      <th>Total Bags</th>\n",
       "      <th>Small Bags</th>\n",
       "      <th>Large Bags</th>\n",
       "      <th>XLarge Bags</th>\n",
       "      <th>type</th>\n",
       "      <th>year</th>\n",
       "      <th>region</th>\n",
       "    </tr>\n",
       "  </thead>\n",
       "  <tbody>\n",
       "    <tr>\n",
       "      <th>0</th>\n",
       "      <td>12/27/2015</td>\n",
       "      <td>1.33</td>\n",
       "      <td>64236.62</td>\n",
       "      <td>1036.74</td>\n",
       "      <td>54454.85</td>\n",
       "      <td>48.16</td>\n",
       "      <td>8696.87</td>\n",
       "      <td>8603.62</td>\n",
       "      <td>93.25</td>\n",
       "      <td>0.0</td>\n",
       "      <td>conventional</td>\n",
       "      <td>2015</td>\n",
       "      <td>Albany</td>\n",
       "    </tr>\n",
       "    <tr>\n",
       "      <th>1</th>\n",
       "      <td>12/20/2015</td>\n",
       "      <td>1.35</td>\n",
       "      <td>54876.98</td>\n",
       "      <td>674.28</td>\n",
       "      <td>44638.81</td>\n",
       "      <td>58.33</td>\n",
       "      <td>9505.56</td>\n",
       "      <td>9408.07</td>\n",
       "      <td>97.49</td>\n",
       "      <td>0.0</td>\n",
       "      <td>conventional</td>\n",
       "      <td>2015</td>\n",
       "      <td>Albany</td>\n",
       "    </tr>\n",
       "    <tr>\n",
       "      <th>2</th>\n",
       "      <td>12/13/2015</td>\n",
       "      <td>0.93</td>\n",
       "      <td>118220.22</td>\n",
       "      <td>794.70</td>\n",
       "      <td>109149.67</td>\n",
       "      <td>130.50</td>\n",
       "      <td>8145.35</td>\n",
       "      <td>8042.21</td>\n",
       "      <td>103.14</td>\n",
       "      <td>0.0</td>\n",
       "      <td>conventional</td>\n",
       "      <td>2015</td>\n",
       "      <td>Albany</td>\n",
       "    </tr>\n",
       "    <tr>\n",
       "      <th>3</th>\n",
       "      <td>12/6/2015</td>\n",
       "      <td>1.08</td>\n",
       "      <td>78992.15</td>\n",
       "      <td>1132.00</td>\n",
       "      <td>71976.41</td>\n",
       "      <td>72.58</td>\n",
       "      <td>5811.16</td>\n",
       "      <td>5677.40</td>\n",
       "      <td>133.76</td>\n",
       "      <td>0.0</td>\n",
       "      <td>conventional</td>\n",
       "      <td>2015</td>\n",
       "      <td>Albany</td>\n",
       "    </tr>\n",
       "    <tr>\n",
       "      <th>4</th>\n",
       "      <td>11/29/2015</td>\n",
       "      <td>1.28</td>\n",
       "      <td>51039.60</td>\n",
       "      <td>941.48</td>\n",
       "      <td>43838.39</td>\n",
       "      <td>75.78</td>\n",
       "      <td>6183.95</td>\n",
       "      <td>5986.26</td>\n",
       "      <td>197.69</td>\n",
       "      <td>0.0</td>\n",
       "      <td>conventional</td>\n",
       "      <td>2015</td>\n",
       "      <td>Albany</td>\n",
       "    </tr>\n",
       "    <tr>\n",
       "      <th>...</th>\n",
       "      <td>...</td>\n",
       "      <td>...</td>\n",
       "      <td>...</td>\n",
       "      <td>...</td>\n",
       "      <td>...</td>\n",
       "      <td>...</td>\n",
       "      <td>...</td>\n",
       "      <td>...</td>\n",
       "      <td>...</td>\n",
       "      <td>...</td>\n",
       "      <td>...</td>\n",
       "      <td>...</td>\n",
       "      <td>...</td>\n",
       "    </tr>\n",
       "    <tr>\n",
       "      <th>18244</th>\n",
       "      <td>2/4/2018</td>\n",
       "      <td>1.63</td>\n",
       "      <td>17074.83</td>\n",
       "      <td>2046.96</td>\n",
       "      <td>1529.20</td>\n",
       "      <td>0.00</td>\n",
       "      <td>13498.67</td>\n",
       "      <td>13066.82</td>\n",
       "      <td>431.85</td>\n",
       "      <td>0.0</td>\n",
       "      <td>organic</td>\n",
       "      <td>2018</td>\n",
       "      <td>WestTexNewMexico</td>\n",
       "    </tr>\n",
       "    <tr>\n",
       "      <th>18245</th>\n",
       "      <td>1/28/2018</td>\n",
       "      <td>1.71</td>\n",
       "      <td>13888.04</td>\n",
       "      <td>1191.70</td>\n",
       "      <td>3431.50</td>\n",
       "      <td>0.00</td>\n",
       "      <td>9264.84</td>\n",
       "      <td>8940.04</td>\n",
       "      <td>324.80</td>\n",
       "      <td>0.0</td>\n",
       "      <td>organic</td>\n",
       "      <td>2018</td>\n",
       "      <td>WestTexNewMexico</td>\n",
       "    </tr>\n",
       "    <tr>\n",
       "      <th>18246</th>\n",
       "      <td>1/21/2018</td>\n",
       "      <td>1.87</td>\n",
       "      <td>13766.76</td>\n",
       "      <td>1191.92</td>\n",
       "      <td>2452.79</td>\n",
       "      <td>727.94</td>\n",
       "      <td>9394.11</td>\n",
       "      <td>9351.80</td>\n",
       "      <td>42.31</td>\n",
       "      <td>0.0</td>\n",
       "      <td>organic</td>\n",
       "      <td>2018</td>\n",
       "      <td>WestTexNewMexico</td>\n",
       "    </tr>\n",
       "    <tr>\n",
       "      <th>18247</th>\n",
       "      <td>1/14/2018</td>\n",
       "      <td>1.93</td>\n",
       "      <td>16205.22</td>\n",
       "      <td>1527.63</td>\n",
       "      <td>2981.04</td>\n",
       "      <td>727.01</td>\n",
       "      <td>10969.54</td>\n",
       "      <td>10919.54</td>\n",
       "      <td>50.00</td>\n",
       "      <td>0.0</td>\n",
       "      <td>organic</td>\n",
       "      <td>2018</td>\n",
       "      <td>WestTexNewMexico</td>\n",
       "    </tr>\n",
       "    <tr>\n",
       "      <th>18248</th>\n",
       "      <td>1/7/2018</td>\n",
       "      <td>1.62</td>\n",
       "      <td>17489.58</td>\n",
       "      <td>2894.77</td>\n",
       "      <td>2356.13</td>\n",
       "      <td>224.53</td>\n",
       "      <td>12014.15</td>\n",
       "      <td>11988.14</td>\n",
       "      <td>26.01</td>\n",
       "      <td>0.0</td>\n",
       "      <td>organic</td>\n",
       "      <td>2018</td>\n",
       "      <td>WestTexNewMexico</td>\n",
       "    </tr>\n",
       "  </tbody>\n",
       "</table>\n",
       "<p>18249 rows × 13 columns</p>\n",
       "</div>"
      ],
      "text/plain": [
       "             Date  AveragePrice  Total Volume     4046       4225    4770  \\\n",
       "0      12/27/2015          1.33      64236.62  1036.74   54454.85   48.16   \n",
       "1      12/20/2015          1.35      54876.98   674.28   44638.81   58.33   \n",
       "2      12/13/2015          0.93     118220.22   794.70  109149.67  130.50   \n",
       "3       12/6/2015          1.08      78992.15  1132.00   71976.41   72.58   \n",
       "4      11/29/2015          1.28      51039.60   941.48   43838.39   75.78   \n",
       "...           ...           ...           ...      ...        ...     ...   \n",
       "18244    2/4/2018          1.63      17074.83  2046.96    1529.20    0.00   \n",
       "18245   1/28/2018          1.71      13888.04  1191.70    3431.50    0.00   \n",
       "18246   1/21/2018          1.87      13766.76  1191.92    2452.79  727.94   \n",
       "18247   1/14/2018          1.93      16205.22  1527.63    2981.04  727.01   \n",
       "18248    1/7/2018          1.62      17489.58  2894.77    2356.13  224.53   \n",
       "\n",
       "       Total Bags  Small Bags  Large Bags  XLarge Bags          type  year  \\\n",
       "0         8696.87     8603.62       93.25          0.0  conventional  2015   \n",
       "1         9505.56     9408.07       97.49          0.0  conventional  2015   \n",
       "2         8145.35     8042.21      103.14          0.0  conventional  2015   \n",
       "3         5811.16     5677.40      133.76          0.0  conventional  2015   \n",
       "4         6183.95     5986.26      197.69          0.0  conventional  2015   \n",
       "...           ...         ...         ...          ...           ...   ...   \n",
       "18244    13498.67    13066.82      431.85          0.0       organic  2018   \n",
       "18245     9264.84     8940.04      324.80          0.0       organic  2018   \n",
       "18246     9394.11     9351.80       42.31          0.0       organic  2018   \n",
       "18247    10969.54    10919.54       50.00          0.0       organic  2018   \n",
       "18248    12014.15    11988.14       26.01          0.0       organic  2018   \n",
       "\n",
       "                 region  \n",
       "0                Albany  \n",
       "1                Albany  \n",
       "2                Albany  \n",
       "3                Albany  \n",
       "4                Albany  \n",
       "...                 ...  \n",
       "18244  WestTexNewMexico  \n",
       "18245  WestTexNewMexico  \n",
       "18246  WestTexNewMexico  \n",
       "18247  WestTexNewMexico  \n",
       "18248  WestTexNewMexico  \n",
       "\n",
       "[18249 rows x 13 columns]"
      ]
     },
     "execution_count": 11,
     "metadata": {},
     "output_type": "execute_result"
    }
   ],
   "source": [
    "df"
   ]
  },
  {
   "cell_type": "code",
   "execution_count": 12,
   "id": "d7524e1d",
   "metadata": {},
   "outputs": [
    {
     "data": {
      "text/plain": [
       "Date            0\n",
       "AveragePrice    0\n",
       "Total Volume    0\n",
       "4046            0\n",
       "4225            0\n",
       "4770            0\n",
       "Total Bags      0\n",
       "Small Bags      0\n",
       "Large Bags      0\n",
       "XLarge Bags     0\n",
       "type            0\n",
       "year            0\n",
       "region          0\n",
       "dtype: int64"
      ]
     },
     "execution_count": 12,
     "metadata": {},
     "output_type": "execute_result"
    }
   ],
   "source": [
    "#checking for null values\n",
    "df.isnull().sum()"
   ]
  },
  {
   "cell_type": "code",
   "execution_count": 13,
   "id": "846094ea",
   "metadata": {},
   "outputs": [
    {
     "data": {
      "text/plain": [
       "0"
      ]
     },
     "execution_count": 13,
     "metadata": {},
     "output_type": "execute_result"
    }
   ],
   "source": [
    "#checking for duplicated values\n",
    "df.duplicated().sum()"
   ]
  },
  {
   "cell_type": "markdown",
   "id": "63ade5f6",
   "metadata": {},
   "source": [
    "There is no duplicated and null values in the dataset"
   ]
  },
  {
   "cell_type": "code",
   "execution_count": 14,
   "id": "c31b446c",
   "metadata": {},
   "outputs": [],
   "source": [
    "#Coverting the datetype of date column to datetime\n",
    "df['Date']=pd.to_datetime(df['Date'])"
   ]
  },
  {
   "cell_type": "code",
   "execution_count": 15,
   "id": "bf0b6ad0",
   "metadata": {},
   "outputs": [
    {
     "data": {
      "text/html": [
       "<div>\n",
       "<style scoped>\n",
       "    .dataframe tbody tr th:only-of-type {\n",
       "        vertical-align: middle;\n",
       "    }\n",
       "\n",
       "    .dataframe tbody tr th {\n",
       "        vertical-align: top;\n",
       "    }\n",
       "\n",
       "    .dataframe thead th {\n",
       "        text-align: right;\n",
       "    }\n",
       "</style>\n",
       "<table border=\"1\" class=\"dataframe\">\n",
       "  <thead>\n",
       "    <tr style=\"text-align: right;\">\n",
       "      <th></th>\n",
       "      <th>Date</th>\n",
       "      <th>AveragePrice</th>\n",
       "      <th>Total Volume</th>\n",
       "      <th>4046</th>\n",
       "      <th>4225</th>\n",
       "      <th>4770</th>\n",
       "      <th>Total Bags</th>\n",
       "      <th>Small Bags</th>\n",
       "      <th>Large Bags</th>\n",
       "      <th>XLarge Bags</th>\n",
       "      <th>type</th>\n",
       "      <th>year</th>\n",
       "      <th>region</th>\n",
       "    </tr>\n",
       "  </thead>\n",
       "  <tbody>\n",
       "    <tr>\n",
       "      <th>0</th>\n",
       "      <td>2015-12-27</td>\n",
       "      <td>1.33</td>\n",
       "      <td>64236.62</td>\n",
       "      <td>1036.74</td>\n",
       "      <td>54454.85</td>\n",
       "      <td>48.16</td>\n",
       "      <td>8696.87</td>\n",
       "      <td>8603.62</td>\n",
       "      <td>93.25</td>\n",
       "      <td>0.0</td>\n",
       "      <td>conventional</td>\n",
       "      <td>2015</td>\n",
       "      <td>Albany</td>\n",
       "    </tr>\n",
       "    <tr>\n",
       "      <th>1</th>\n",
       "      <td>2015-12-20</td>\n",
       "      <td>1.35</td>\n",
       "      <td>54876.98</td>\n",
       "      <td>674.28</td>\n",
       "      <td>44638.81</td>\n",
       "      <td>58.33</td>\n",
       "      <td>9505.56</td>\n",
       "      <td>9408.07</td>\n",
       "      <td>97.49</td>\n",
       "      <td>0.0</td>\n",
       "      <td>conventional</td>\n",
       "      <td>2015</td>\n",
       "      <td>Albany</td>\n",
       "    </tr>\n",
       "    <tr>\n",
       "      <th>2</th>\n",
       "      <td>2015-12-13</td>\n",
       "      <td>0.93</td>\n",
       "      <td>118220.22</td>\n",
       "      <td>794.70</td>\n",
       "      <td>109149.67</td>\n",
       "      <td>130.50</td>\n",
       "      <td>8145.35</td>\n",
       "      <td>8042.21</td>\n",
       "      <td>103.14</td>\n",
       "      <td>0.0</td>\n",
       "      <td>conventional</td>\n",
       "      <td>2015</td>\n",
       "      <td>Albany</td>\n",
       "    </tr>\n",
       "    <tr>\n",
       "      <th>3</th>\n",
       "      <td>2015-12-06</td>\n",
       "      <td>1.08</td>\n",
       "      <td>78992.15</td>\n",
       "      <td>1132.00</td>\n",
       "      <td>71976.41</td>\n",
       "      <td>72.58</td>\n",
       "      <td>5811.16</td>\n",
       "      <td>5677.40</td>\n",
       "      <td>133.76</td>\n",
       "      <td>0.0</td>\n",
       "      <td>conventional</td>\n",
       "      <td>2015</td>\n",
       "      <td>Albany</td>\n",
       "    </tr>\n",
       "    <tr>\n",
       "      <th>4</th>\n",
       "      <td>2015-11-29</td>\n",
       "      <td>1.28</td>\n",
       "      <td>51039.60</td>\n",
       "      <td>941.48</td>\n",
       "      <td>43838.39</td>\n",
       "      <td>75.78</td>\n",
       "      <td>6183.95</td>\n",
       "      <td>5986.26</td>\n",
       "      <td>197.69</td>\n",
       "      <td>0.0</td>\n",
       "      <td>conventional</td>\n",
       "      <td>2015</td>\n",
       "      <td>Albany</td>\n",
       "    </tr>\n",
       "  </tbody>\n",
       "</table>\n",
       "</div>"
      ],
      "text/plain": [
       "        Date  AveragePrice  Total Volume     4046       4225    4770  \\\n",
       "0 2015-12-27          1.33      64236.62  1036.74   54454.85   48.16   \n",
       "1 2015-12-20          1.35      54876.98   674.28   44638.81   58.33   \n",
       "2 2015-12-13          0.93     118220.22   794.70  109149.67  130.50   \n",
       "3 2015-12-06          1.08      78992.15  1132.00   71976.41   72.58   \n",
       "4 2015-11-29          1.28      51039.60   941.48   43838.39   75.78   \n",
       "\n",
       "   Total Bags  Small Bags  Large Bags  XLarge Bags          type  year  region  \n",
       "0     8696.87     8603.62       93.25          0.0  conventional  2015  Albany  \n",
       "1     9505.56     9408.07       97.49          0.0  conventional  2015  Albany  \n",
       "2     8145.35     8042.21      103.14          0.0  conventional  2015  Albany  \n",
       "3     5811.16     5677.40      133.76          0.0  conventional  2015  Albany  \n",
       "4     6183.95     5986.26      197.69          0.0  conventional  2015  Albany  "
      ]
     },
     "execution_count": 15,
     "metadata": {},
     "output_type": "execute_result"
    }
   ],
   "source": [
    "df.head()"
   ]
  },
  {
   "cell_type": "code",
   "execution_count": 16,
   "id": "57a2c794",
   "metadata": {},
   "outputs": [
    {
     "name": "stdout",
     "output_type": "stream",
     "text": [
      "<class 'pandas.core.frame.DataFrame'>\n",
      "RangeIndex: 18249 entries, 0 to 18248\n",
      "Data columns (total 13 columns):\n",
      " #   Column        Non-Null Count  Dtype         \n",
      "---  ------        --------------  -----         \n",
      " 0   Date          18249 non-null  datetime64[ns]\n",
      " 1   AveragePrice  18249 non-null  float64       \n",
      " 2   Total Volume  18249 non-null  float64       \n",
      " 3   4046          18249 non-null  float64       \n",
      " 4   4225          18249 non-null  float64       \n",
      " 5   4770          18249 non-null  float64       \n",
      " 6   Total Bags    18249 non-null  float64       \n",
      " 7   Small Bags    18249 non-null  float64       \n",
      " 8   Large Bags    18249 non-null  float64       \n",
      " 9   XLarge Bags   18249 non-null  float64       \n",
      " 10  type          18249 non-null  object        \n",
      " 11  year          18249 non-null  int64         \n",
      " 12  region        18249 non-null  object        \n",
      "dtypes: datetime64[ns](1), float64(9), int64(1), object(2)\n",
      "memory usage: 1.8+ MB\n"
     ]
    }
   ],
   "source": [
    "df.info()"
   ]
  },
  {
   "cell_type": "code",
   "execution_count": 17,
   "id": "61b77586",
   "metadata": {},
   "outputs": [],
   "source": [
    "#setting the date At DataFrame Index\n",
    "df.set_index('Date',inplace=True)"
   ]
  },
  {
   "cell_type": "code",
   "execution_count": 18,
   "id": "0cf9ecb5",
   "metadata": {},
   "outputs": [
    {
     "name": "stdout",
     "output_type": "stream",
     "text": [
      "1.15    202\n",
      "1.18    199\n",
      "1.08    194\n",
      "1.26    193\n",
      "1.13    192\n",
      "       ... \n",
      "3.25      1\n",
      "3.12      1\n",
      "2.68      1\n",
      "3.03      1\n",
      "3.17      1\n",
      "Name: AveragePrice, Length: 259, dtype: int64\n",
      "--------------\n",
      "4103.97       2\n",
      "3529.44       2\n",
      "46602.16      2\n",
      "13234.04      2\n",
      "3713.49       2\n",
      "             ..\n",
      "874349.55     1\n",
      "1621253.97    1\n",
      "830499.38     1\n",
      "845065.66     1\n",
      "17489.58      1\n",
      "Name: Total Volume, Length: 18237, dtype: int64\n",
      "--------------\n",
      "0.00       242\n",
      "3.00        10\n",
      "4.00         8\n",
      "1.24         8\n",
      "1.00         8\n",
      "          ... \n",
      "1486.31      1\n",
      "1761.80      1\n",
      "1772.26      1\n",
      "1803.39      1\n",
      "2894.77      1\n",
      "Name: 4046, Length: 17702, dtype: int64\n",
      "--------------\n",
      "0.00         61\n",
      "177.87        3\n",
      "215.36        3\n",
      "1.30          3\n",
      "1.26          3\n",
      "             ..\n",
      "417905.67     1\n",
      "275986.91     1\n",
      "277789.30     1\n",
      "378155.00     1\n",
      "2356.13       1\n",
      "Name: 4225, Length: 18103, dtype: int64\n",
      "--------------\n",
      "0.00      5497\n",
      "2.66         7\n",
      "3.32         7\n",
      "10.97        6\n",
      "1.59         6\n",
      "          ... \n",
      "547.08       1\n",
      "155.87       1\n",
      "72.01        1\n",
      "128.06       1\n",
      "224.53       1\n",
      "Name: 4770, Length: 12071, dtype: int64\n",
      "--------------\n",
      "0.00         15\n",
      "990.00        5\n",
      "300.00        5\n",
      "550.00        4\n",
      "266.67        4\n",
      "             ..\n",
      "90196.05      1\n",
      "130858.02     1\n",
      "510679.10     1\n",
      "84522.00      1\n",
      "12014.15      1\n",
      "Name: Total Bags, Length: 18097, dtype: int64\n",
      "--------------\n",
      "0.00        159\n",
      "203.33       11\n",
      "223.33       10\n",
      "533.33       10\n",
      "123.33        8\n",
      "           ... \n",
      "14002.00      1\n",
      "32441.00      1\n",
      "29560.96      1\n",
      "22077.20      1\n",
      "11988.14      1\n",
      "Name: Small Bags, Length: 17321, dtype: int64\n",
      "--------------\n",
      "0.00          2370\n",
      "3.33           187\n",
      "6.67            78\n",
      "10.00           47\n",
      "4.44            38\n",
      "              ... \n",
      "2528089.14       1\n",
      "2287449.76       1\n",
      "731388.25        1\n",
      "673464.14        1\n",
      "26.01            1\n",
      "Name: Large Bags, Length: 15082, dtype: int64\n",
      "--------------\n",
      "0.00       12048\n",
      "3.33          29\n",
      "6.67          16\n",
      "1.11          15\n",
      "5.00          12\n",
      "           ...  \n",
      "3018.05        1\n",
      "2739.44        1\n",
      "9301.67        1\n",
      "8640.00        1\n",
      "24.18          1\n",
      "Name: XLarge Bags, Length: 5588, dtype: int64\n",
      "--------------\n",
      "conventional    9126\n",
      "organic         9123\n",
      "Name: type, dtype: int64\n",
      "--------------\n",
      "2017    5722\n",
      "2016    5616\n",
      "2015    5615\n",
      "2018    1296\n",
      "Name: year, dtype: int64\n",
      "--------------\n",
      "Albany                 338\n",
      "Sacramento             338\n",
      "Northeast              338\n",
      "NorthernNewEngland     338\n",
      "Orlando                338\n",
      "Philadelphia           338\n",
      "PhoenixTucson          338\n",
      "Pittsburgh             338\n",
      "Plains                 338\n",
      "Portland               338\n",
      "RaleighGreensboro      338\n",
      "RichmondNorfolk        338\n",
      "Roanoke                338\n",
      "SanDiego               338\n",
      "Atlanta                338\n",
      "SanFrancisco           338\n",
      "Seattle                338\n",
      "SouthCarolina          338\n",
      "SouthCentral           338\n",
      "Southeast              338\n",
      "Spokane                338\n",
      "StLouis                338\n",
      "Syracuse               338\n",
      "Tampa                  338\n",
      "TotalUS                338\n",
      "West                   338\n",
      "NewYork                338\n",
      "NewOrleansMobile       338\n",
      "Nashville              338\n",
      "Midsouth               338\n",
      "BaltimoreWashington    338\n",
      "Boise                  338\n",
      "Boston                 338\n",
      "BuffaloRochester       338\n",
      "California             338\n",
      "Charlotte              338\n",
      "Chicago                338\n",
      "CincinnatiDayton       338\n",
      "Columbus               338\n",
      "DallasFtWorth          338\n",
      "Denver                 338\n",
      "Detroit                338\n",
      "GrandRapids            338\n",
      "GreatLakes             338\n",
      "HarrisburgScranton     338\n",
      "HartfordSpringfield    338\n",
      "Houston                338\n",
      "Indianapolis           338\n",
      "Jacksonville           338\n",
      "LasVegas               338\n",
      "LosAngeles             338\n",
      "Louisville             338\n",
      "MiamiFtLauderdale      338\n",
      "WestTexNewMexico       335\n",
      "Name: region, dtype: int64\n",
      "--------------\n"
     ]
    }
   ],
   "source": [
    "#checking for value counts in each columns\n",
    "for i in df.columns:\n",
    "    print(df[i].value_counts())\n",
    "    print('--------------')"
   ]
  },
  {
   "cell_type": "code",
   "execution_count": 19,
   "id": "badc155e",
   "metadata": {},
   "outputs": [
    {
     "data": {
      "text/html": [
       "<div>\n",
       "<style scoped>\n",
       "    .dataframe tbody tr th:only-of-type {\n",
       "        vertical-align: middle;\n",
       "    }\n",
       "\n",
       "    .dataframe tbody tr th {\n",
       "        vertical-align: top;\n",
       "    }\n",
       "\n",
       "    .dataframe thead th {\n",
       "        text-align: right;\n",
       "    }\n",
       "</style>\n",
       "<table border=\"1\" class=\"dataframe\">\n",
       "  <thead>\n",
       "    <tr style=\"text-align: right;\">\n",
       "      <th></th>\n",
       "      <th>No of unique values</th>\n",
       "    </tr>\n",
       "  </thead>\n",
       "  <tbody>\n",
       "    <tr>\n",
       "      <th>AveragePrice</th>\n",
       "      <td>259</td>\n",
       "    </tr>\n",
       "    <tr>\n",
       "      <th>Total Volume</th>\n",
       "      <td>18237</td>\n",
       "    </tr>\n",
       "    <tr>\n",
       "      <th>4046</th>\n",
       "      <td>17702</td>\n",
       "    </tr>\n",
       "    <tr>\n",
       "      <th>4225</th>\n",
       "      <td>18103</td>\n",
       "    </tr>\n",
       "    <tr>\n",
       "      <th>4770</th>\n",
       "      <td>12071</td>\n",
       "    </tr>\n",
       "    <tr>\n",
       "      <th>Total Bags</th>\n",
       "      <td>18097</td>\n",
       "    </tr>\n",
       "    <tr>\n",
       "      <th>Small Bags</th>\n",
       "      <td>17321</td>\n",
       "    </tr>\n",
       "    <tr>\n",
       "      <th>Large Bags</th>\n",
       "      <td>15082</td>\n",
       "    </tr>\n",
       "    <tr>\n",
       "      <th>XLarge Bags</th>\n",
       "      <td>5588</td>\n",
       "    </tr>\n",
       "    <tr>\n",
       "      <th>type</th>\n",
       "      <td>2</td>\n",
       "    </tr>\n",
       "    <tr>\n",
       "      <th>year</th>\n",
       "      <td>4</td>\n",
       "    </tr>\n",
       "    <tr>\n",
       "      <th>region</th>\n",
       "      <td>54</td>\n",
       "    </tr>\n",
       "  </tbody>\n",
       "</table>\n",
       "</div>"
      ],
      "text/plain": [
       "              No of unique values\n",
       "AveragePrice                  259\n",
       "Total Volume                18237\n",
       "4046                        17702\n",
       "4225                        18103\n",
       "4770                        12071\n",
       "Total Bags                  18097\n",
       "Small Bags                  17321\n",
       "Large Bags                  15082\n",
       "XLarge Bags                  5588\n",
       "type                            2\n",
       "year                            4\n",
       "region                         54"
      ]
     },
     "execution_count": 19,
     "metadata": {},
     "output_type": "execute_result"
    }
   ],
   "source": [
    "#Checking the number of unique values in each column\n",
    "df.nunique().to_frame('No of unique values')"
   ]
  },
  {
   "cell_type": "code",
   "execution_count": 20,
   "id": "a1f3a928",
   "metadata": {},
   "outputs": [
    {
     "data": {
      "text/plain": [
       "<AxesSubplot:ylabel='Date'>"
      ]
     },
     "execution_count": 20,
     "metadata": {},
     "output_type": "execute_result"
    },
    {
     "data": {
      "image/png": "[encoded data removed]",
      "text/plain": [
       "<Figure size 640x480 with 2 Axes>"
      ]
     },
     "metadata": {},
     "output_type": "display_data"
    }
   ],
   "source": [
    "#let's visualize using heatmap\n",
    "sns.heatmap(df.isnull())"
   ]
  },
  {
   "cell_type": "code",
   "execution_count": 21,
   "id": "7dabbb13",
   "metadata": {
    "scrolled": true
   },
   "outputs": [
    {
     "data": {
      "text/html": [
       "<div>\n",
       "<style scoped>\n",
       "    .dataframe tbody tr th:only-of-type {\n",
       "        vertical-align: middle;\n",
       "    }\n",
       "\n",
       "    .dataframe tbody tr th {\n",
       "        vertical-align: top;\n",
       "    }\n",
       "\n",
       "    .dataframe thead th {\n",
       "        text-align: right;\n",
       "    }\n",
       "</style>\n",
       "<table border=\"1\" class=\"dataframe\">\n",
       "  <thead>\n",
       "    <tr style=\"text-align: right;\">\n",
       "      <th></th>\n",
       "      <th>No of unique values</th>\n",
       "    </tr>\n",
       "  </thead>\n",
       "  <tbody>\n",
       "    <tr>\n",
       "      <th>AveragePrice</th>\n",
       "      <td>259</td>\n",
       "    </tr>\n",
       "    <tr>\n",
       "      <th>Total Volume</th>\n",
       "      <td>18237</td>\n",
       "    </tr>\n",
       "    <tr>\n",
       "      <th>4046</th>\n",
       "      <td>17702</td>\n",
       "    </tr>\n",
       "    <tr>\n",
       "      <th>4225</th>\n",
       "      <td>18103</td>\n",
       "    </tr>\n",
       "    <tr>\n",
       "      <th>4770</th>\n",
       "      <td>12071</td>\n",
       "    </tr>\n",
       "    <tr>\n",
       "      <th>Total Bags</th>\n",
       "      <td>18097</td>\n",
       "    </tr>\n",
       "    <tr>\n",
       "      <th>Small Bags</th>\n",
       "      <td>17321</td>\n",
       "    </tr>\n",
       "    <tr>\n",
       "      <th>Large Bags</th>\n",
       "      <td>15082</td>\n",
       "    </tr>\n",
       "    <tr>\n",
       "      <th>XLarge Bags</th>\n",
       "      <td>5588</td>\n",
       "    </tr>\n",
       "    <tr>\n",
       "      <th>type</th>\n",
       "      <td>2</td>\n",
       "    </tr>\n",
       "    <tr>\n",
       "      <th>year</th>\n",
       "      <td>4</td>\n",
       "    </tr>\n",
       "    <tr>\n",
       "      <th>region</th>\n",
       "      <td>54</td>\n",
       "    </tr>\n",
       "  </tbody>\n",
       "</table>\n",
       "</div>"
      ],
      "text/plain": [
       "              No of unique values\n",
       "AveragePrice                  259\n",
       "Total Volume                18237\n",
       "4046                        17702\n",
       "4225                        18103\n",
       "4770                        12071\n",
       "Total Bags                  18097\n",
       "Small Bags                  17321\n",
       "Large Bags                  15082\n",
       "XLarge Bags                  5588\n",
       "type                            2\n",
       "year                            4\n",
       "region                         54"
      ]
     },
     "execution_count": 21,
     "metadata": {},
     "output_type": "execute_result"
    }
   ],
   "source": [
    "#Checking the number of unique values in each column\n",
    "df.nunique().to_frame('No of unique values')"
   ]
  },
  {
   "cell_type": "code",
   "execution_count": 22,
   "id": "f8ec39a2",
   "metadata": {},
   "outputs": [
    {
     "data": {
      "text/html": [
       "<div>\n",
       "<style scoped>\n",
       "    .dataframe tbody tr th:only-of-type {\n",
       "        vertical-align: middle;\n",
       "    }\n",
       "\n",
       "    .dataframe tbody tr th {\n",
       "        vertical-align: top;\n",
       "    }\n",
       "\n",
       "    .dataframe thead th {\n",
       "        text-align: right;\n",
       "    }\n",
       "</style>\n",
       "<table border=\"1\" class=\"dataframe\">\n",
       "  <thead>\n",
       "    <tr style=\"text-align: right;\">\n",
       "      <th></th>\n",
       "      <th>AveragePrice</th>\n",
       "      <th>Total Volume</th>\n",
       "      <th>4046</th>\n",
       "      <th>4225</th>\n",
       "      <th>4770</th>\n",
       "      <th>Total Bags</th>\n",
       "      <th>Small Bags</th>\n",
       "      <th>Large Bags</th>\n",
       "      <th>XLarge Bags</th>\n",
       "      <th>year</th>\n",
       "    </tr>\n",
       "  </thead>\n",
       "  <tbody>\n",
       "    <tr>\n",
       "      <th>count</th>\n",
       "      <td>18249.000000</td>\n",
       "      <td>1.824900e+04</td>\n",
       "      <td>1.824900e+04</td>\n",
       "      <td>1.824900e+04</td>\n",
       "      <td>1.824900e+04</td>\n",
       "      <td>1.824900e+04</td>\n",
       "      <td>1.824900e+04</td>\n",
       "      <td>1.824900e+04</td>\n",
       "      <td>18249.000000</td>\n",
       "      <td>18249.000000</td>\n",
       "    </tr>\n",
       "    <tr>\n",
       "      <th>mean</th>\n",
       "      <td>1.405978</td>\n",
       "      <td>8.506440e+05</td>\n",
       "      <td>2.930084e+05</td>\n",
       "      <td>2.951546e+05</td>\n",
       "      <td>2.283974e+04</td>\n",
       "      <td>2.396392e+05</td>\n",
       "      <td>1.821947e+05</td>\n",
       "      <td>5.433809e+04</td>\n",
       "      <td>3106.426507</td>\n",
       "      <td>2016.147899</td>\n",
       "    </tr>\n",
       "    <tr>\n",
       "      <th>std</th>\n",
       "      <td>0.402677</td>\n",
       "      <td>3.453545e+06</td>\n",
       "      <td>1.264989e+06</td>\n",
       "      <td>1.204120e+06</td>\n",
       "      <td>1.074641e+05</td>\n",
       "      <td>9.862424e+05</td>\n",
       "      <td>7.461785e+05</td>\n",
       "      <td>2.439660e+05</td>\n",
       "      <td>17692.894652</td>\n",
       "      <td>0.939938</td>\n",
       "    </tr>\n",
       "    <tr>\n",
       "      <th>min</th>\n",
       "      <td>0.440000</td>\n",
       "      <td>8.456000e+01</td>\n",
       "      <td>0.000000e+00</td>\n",
       "      <td>0.000000e+00</td>\n",
       "      <td>0.000000e+00</td>\n",
       "      <td>0.000000e+00</td>\n",
       "      <td>0.000000e+00</td>\n",
       "      <td>0.000000e+00</td>\n",
       "      <td>0.000000</td>\n",
       "      <td>2015.000000</td>\n",
       "    </tr>\n",
       "    <tr>\n",
       "      <th>25%</th>\n",
       "      <td>1.100000</td>\n",
       "      <td>1.083858e+04</td>\n",
       "      <td>8.540700e+02</td>\n",
       "      <td>3.008780e+03</td>\n",
       "      <td>0.000000e+00</td>\n",
       "      <td>5.088640e+03</td>\n",
       "      <td>2.849420e+03</td>\n",
       "      <td>1.274700e+02</td>\n",
       "      <td>0.000000</td>\n",
       "      <td>2015.000000</td>\n",
       "    </tr>\n",
       "    <tr>\n",
       "      <th>50%</th>\n",
       "      <td>1.370000</td>\n",
       "      <td>1.073768e+05</td>\n",
       "      <td>8.645300e+03</td>\n",
       "      <td>2.906102e+04</td>\n",
       "      <td>1.849900e+02</td>\n",
       "      <td>3.974383e+04</td>\n",
       "      <td>2.636282e+04</td>\n",
       "      <td>2.647710e+03</td>\n",
       "      <td>0.000000</td>\n",
       "      <td>2016.000000</td>\n",
       "    </tr>\n",
       "    <tr>\n",
       "      <th>75%</th>\n",
       "      <td>1.660000</td>\n",
       "      <td>4.329623e+05</td>\n",
       "      <td>1.110202e+05</td>\n",
       "      <td>1.502069e+05</td>\n",
       "      <td>6.243420e+03</td>\n",
       "      <td>1.107834e+05</td>\n",
       "      <td>8.333767e+04</td>\n",
       "      <td>2.202925e+04</td>\n",
       "      <td>132.500000</td>\n",
       "      <td>2017.000000</td>\n",
       "    </tr>\n",
       "    <tr>\n",
       "      <th>max</th>\n",
       "      <td>3.250000</td>\n",
       "      <td>6.250565e+07</td>\n",
       "      <td>2.274362e+07</td>\n",
       "      <td>2.047057e+07</td>\n",
       "      <td>2.546439e+06</td>\n",
       "      <td>1.937313e+07</td>\n",
       "      <td>1.338459e+07</td>\n",
       "      <td>5.719097e+06</td>\n",
       "      <td>551693.650000</td>\n",
       "      <td>2018.000000</td>\n",
       "    </tr>\n",
       "  </tbody>\n",
       "</table>\n",
       "</div>"
      ],
      "text/plain": [
       "       AveragePrice  Total Volume          4046          4225          4770  \\\n",
       "count  18249.000000  1.824900e+04  1.824900e+04  1.824900e+04  1.824900e+04   \n",
       "mean       1.405978  8.506440e+05  2.930084e+05  2.951546e+05  2.283974e+04   \n",
       "std        0.402677  3.453545e+06  1.264989e+06  1.204120e+06  1.074641e+05   \n",
       "min        0.440000  8.456000e+01  0.000000e+00  0.000000e+00  0.000000e+00   \n",
       "25%        1.100000  1.083858e+04  8.540700e+02  3.008780e+03  0.000000e+00   \n",
       "50%        1.370000  1.073768e+05  8.645300e+03  2.906102e+04  1.849900e+02   \n",
       "75%        1.660000  4.329623e+05  1.110202e+05  1.502069e+05  6.243420e+03   \n",
       "max        3.250000  6.250565e+07  2.274362e+07  2.047057e+07  2.546439e+06   \n",
       "\n",
       "         Total Bags    Small Bags    Large Bags    XLarge Bags          year  \n",
       "count  1.824900e+04  1.824900e+04  1.824900e+04   18249.000000  18249.000000  \n",
       "mean   2.396392e+05  1.821947e+05  5.433809e+04    3106.426507   2016.147899  \n",
       "std    9.862424e+05  7.461785e+05  2.439660e+05   17692.894652      0.939938  \n",
       "min    0.000000e+00  0.000000e+00  0.000000e+00       0.000000   2015.000000  \n",
       "25%    5.088640e+03  2.849420e+03  1.274700e+02       0.000000   2015.000000  \n",
       "50%    3.974383e+04  2.636282e+04  2.647710e+03       0.000000   2016.000000  \n",
       "75%    1.107834e+05  8.333767e+04  2.202925e+04     132.500000   2017.000000  \n",
       "max    1.937313e+07  1.338459e+07  5.719097e+06  551693.650000   2018.000000  "
      ]
     },
     "execution_count": 22,
     "metadata": {},
     "output_type": "execute_result"
    }
   ],
   "source": [
    "#Check statistical summary\n",
    "df.describe()"
   ]
  },
  {
   "cell_type": "code",
   "execution_count": 23,
   "id": "76739b12",
   "metadata": {},
   "outputs": [
    {
     "data": {
      "text/plain": [
       "<AxesSubplot:xlabel='AveragePrice'>"
      ]
     },
     "execution_count": 23,
     "metadata": {},
     "output_type": "execute_result"
    },
    {
     "data": {
      "image/png": "[encoded data removed]",
      "text/plain": [
       "<Figure size 640x480 with 1 Axes>"
      ]
     },
     "metadata": {},
     "output_type": "display_data"
    }
   ],
   "source": [
    "import warnings\n",
    "warnings.filterwarnings('ignore')\n",
    "sns.boxplot('AveragePrice',data=df)"
   ]
  },
  {
   "cell_type": "code",
   "execution_count": 24,
   "id": "587895dd",
   "metadata": {},
   "outputs": [
    {
     "data": {
      "text/plain": [
       "AveragePrice       AxesSubplot(0.125,0.653529;0.110714x0.226471)\n",
       "Total Volume    AxesSubplot(0.257857,0.653529;0.110714x0.226471)\n",
       "4046            AxesSubplot(0.390714,0.653529;0.110714x0.226471)\n",
       "4225            AxesSubplot(0.523571,0.653529;0.110714x0.226471)\n",
       "4770            AxesSubplot(0.656429,0.653529;0.110714x0.226471)\n",
       "Total Bags      AxesSubplot(0.789286,0.653529;0.110714x0.226471)\n",
       "Small Bags         AxesSubplot(0.125,0.381765;0.110714x0.226471)\n",
       "Large Bags      AxesSubplot(0.257857,0.381765;0.110714x0.226471)\n",
       "XLarge Bags     AxesSubplot(0.390714,0.381765;0.110714x0.226471)\n",
       "year            AxesSubplot(0.523571,0.381765;0.110714x0.226471)\n",
       "dtype: object"
      ]
     },
     "execution_count": 24,
     "metadata": {},
     "output_type": "execute_result"
    },
    {
     "data": {
      "image/png": "[encoded data removed]",
      "text/plain": [
       "<Figure size 1000x1000 with 18 Axes>"
      ]
     },
     "metadata": {},
     "output_type": "display_data"
    }
   ],
   "source": [
    "#Checking for outliers using the boxplot\n",
    "df.plot(kind='box',subplots=True,layout=(3,6),figsize=(10,10))"
   ]
  },
  {
   "cell_type": "markdown",
   "id": "ff7ccb78",
   "metadata": {},
   "source": [
    "# To check distribution of skewness"
   ]
  },
  {
   "cell_type": "markdown",
   "id": "d559e57d",
   "metadata": {},
   "source": [
    "# Univariate Analysis"
   ]
  },
  {
   "cell_type": "code",
   "execution_count": 25,
   "id": "6e5ee604",
   "metadata": {},
   "outputs": [
    {
     "data": {
      "text/plain": [
       "Index(['AveragePrice', 'Total Volume', '4046', '4225', '4770', 'Total Bags',\n",
       "       'Small Bags', 'Large Bags', 'XLarge Bags', 'type', 'year', 'region'],\n",
       "      dtype='object')"
      ]
     },
     "execution_count": 25,
     "metadata": {},
     "output_type": "execute_result"
    }
   ],
   "source": [
    "df.columns"
   ]
  },
  {
   "cell_type": "code",
   "execution_count": 26,
   "id": "1faad2f5",
   "metadata": {},
   "outputs": [
    {
     "data": {
      "text/plain": [
       "<AxesSubplot:xlabel='AveragePrice', ylabel='Density'>"
      ]
     },
     "execution_count": 26,
     "metadata": {},
     "output_type": "execute_result"
    },
    {
     "data": {
      "image/png": "[encoded data removed]",
      "text/plain": [
       "<Figure size 640x480 with 1 Axes>"
      ]
     },
     "metadata": {},
     "output_type": "display_data"
    }
   ],
   "source": [
    "sns.distplot(df['AveragePrice'])"
   ]
  },
  {
   "cell_type": "code",
   "execution_count": 27,
   "id": "6a4ff0ee",
   "metadata": {},
   "outputs": [
    {
     "data": {
      "text/plain": [
       "<AxesSubplot:xlabel='Total Volume', ylabel='Density'>"
      ]
     },
     "execution_count": 27,
     "metadata": {},
     "output_type": "execute_result"
    },
    {
     "data": {
      "image/png": "[encoded data removed]",
      "text/plain": [
       "<Figure size 640x480 with 1 Axes>"
      ]
     },
     "metadata": {},
     "output_type": "display_data"
    }
   ],
   "source": [
    "sns.distplot(df['Total Volume'])"
   ]
  },
  {
   "cell_type": "code",
   "execution_count": 28,
   "id": "b3fc2abb",
   "metadata": {},
   "outputs": [
    {
     "data": {
      "text/plain": [
       "<AxesSubplot:xlabel='4046', ylabel='Density'>"
      ]
     },
     "execution_count": 28,
     "metadata": {},
     "output_type": "execute_result"
    },
    {
     "data": {
      "image/png": "[encoded data removed]",
      "text/plain": [
       "<Figure size 640x480 with 1 Axes>"
      ]
     },
     "metadata": {},
     "output_type": "display_data"
    }
   ],
   "source": [
    "sns.distplot(df['4046'])"
   ]
  },
  {
   "cell_type": "code",
   "execution_count": 29,
   "id": "6357c0f7",
   "metadata": {},
   "outputs": [
    {
     "data": {
      "text/plain": [
       "<AxesSubplot:xlabel='4225', ylabel='Density'>"
      ]
     },
     "execution_count": 29,
     "metadata": {},
     "output_type": "execute_result"
    },
    {
     "data": {
      "image/png": "[encoded data removed]",
      "text/plain": [
       "<Figure size 640x480 with 1 Axes>"
      ]
     },
     "metadata": {},
     "output_type": "display_data"
    }
   ],
   "source": [
    "sns.distplot(df['4225'])"
   ]
  },
  {
   "cell_type": "code",
   "execution_count": 30,
   "id": "761592d4",
   "metadata": {},
   "outputs": [
    {
     "data": {
      "text/plain": [
       "<AxesSubplot:xlabel='4770', ylabel='Density'>"
      ]
     },
     "execution_count": 30,
     "metadata": {},
     "output_type": "execute_result"
    },
    {
     "data": {
      "image/png": "[encoded data removed]",
      "text/plain": [
       "<Figure size 640x480 with 1 Axes>"
      ]
     },
     "metadata": {},
     "output_type": "display_data"
    }
   ],
   "source": [
    "sns.distplot(df['4770'])"
   ]
  },
  {
   "cell_type": "code",
   "execution_count": 31,
   "id": "b05ac8fb",
   "metadata": {},
   "outputs": [
    {
     "data": {
      "text/plain": [
       "<AxesSubplot:xlabel='Total Bags', ylabel='Density'>"
      ]
     },
     "execution_count": 31,
     "metadata": {},
     "output_type": "execute_result"
    },
    {
     "data": {
      "image/png": "[encoded data removed]",
      "text/plain": [
       "<Figure size 640x480 with 1 Axes>"
      ]
     },
     "metadata": {},
     "output_type": "display_data"
    }
   ],
   "source": [
    "sns.distplot(df['Total Bags'])"
   ]
  },
  {
   "cell_type": "markdown",
   "id": "82ff98ee",
   "metadata": {},
   "source": [
    "# Checking for skewness"
   ]
  },
  {
   "cell_type": "code",
   "execution_count": 32,
   "id": "a6e6c10c",
   "metadata": {},
   "outputs": [
    {
     "data": {
      "text/plain": [
       "AveragePrice     0.580303\n",
       "Total Volume     9.007687\n",
       "4046             8.648220\n",
       "4225             8.942466\n",
       "4770            10.159396\n",
       "Total Bags       9.756072\n",
       "Small Bags       9.540660\n",
       "Large Bags       9.796455\n",
       "XLarge Bags     13.139751\n",
       "year             0.215339\n",
       "dtype: float64"
      ]
     },
     "execution_count": 32,
     "metadata": {},
     "output_type": "execute_result"
    }
   ],
   "source": [
    "df.skew()"
   ]
  },
  {
   "cell_type": "markdown",
   "id": "e4e74542",
   "metadata": {},
   "source": [
    "As we can see from graph analysis or by direct checking of skewness, we find that there are some columns \n",
    "which are right skewed"
   ]
  },
  {
   "cell_type": "markdown",
   "id": "c2bc26c5",
   "metadata": {},
   "source": [
    "# Removing the skewness"
   ]
  },
  {
   "cell_type": "code",
   "execution_count": 33,
   "id": "2248f72a",
   "metadata": {},
   "outputs": [],
   "source": [
    "df['Total Volume']=np.cbrt(df['Total Volume'])"
   ]
  },
  {
   "cell_type": "code",
   "execution_count": 34,
   "id": "3f40f4ea",
   "metadata": {},
   "outputs": [],
   "source": [
    "df['4046']=np.cbrt(df['4046'])"
   ]
  },
  {
   "cell_type": "code",
   "execution_count": 35,
   "id": "37ccf69a",
   "metadata": {},
   "outputs": [],
   "source": [
    "df['4225']=np.cbrt(df['4225'])"
   ]
  },
  {
   "cell_type": "code",
   "execution_count": 36,
   "id": "bd154c50",
   "metadata": {},
   "outputs": [],
   "source": [
    "df['4770']=np.cbrt(df['4770'])"
   ]
  },
  {
   "cell_type": "code",
   "execution_count": 37,
   "id": "da5a2601",
   "metadata": {},
   "outputs": [],
   "source": [
    "df['Total Bags']=np.cbrt(df['Total Bags'])"
   ]
  },
  {
   "cell_type": "code",
   "execution_count": 38,
   "id": "b44a3381",
   "metadata": {},
   "outputs": [],
   "source": [
    "df['Large Bags']=np.cbrt(df['Large Bags'])"
   ]
  },
  {
   "cell_type": "code",
   "execution_count": 39,
   "id": "c4a2d671",
   "metadata": {},
   "outputs": [],
   "source": [
    "df['Small Bags']=np.cbrt(df['Small Bags'])"
   ]
  },
  {
   "cell_type": "code",
   "execution_count": 40,
   "id": "857428dd",
   "metadata": {},
   "outputs": [],
   "source": [
    "df['XLarge Bags']=np.cbrt(df['XLarge Bags'])"
   ]
  },
  {
   "cell_type": "markdown",
   "id": "13572715",
   "metadata": {},
   "source": [
    "# Again checking for skewness"
   ]
  },
  {
   "cell_type": "code",
   "execution_count": 41,
   "id": "a0077ff2",
   "metadata": {},
   "outputs": [
    {
     "data": {
      "text/plain": [
       "AveragePrice    0.580303\n",
       "Total Volume    2.236143\n",
       "4046            2.277861\n",
       "4225            2.130378\n",
       "4770            2.316048\n",
       "Total Bags      2.302176\n",
       "Small Bags      2.217682\n",
       "Large Bags      2.186514\n",
       "XLarge Bags     2.842255\n",
       "year            0.215339\n",
       "dtype: float64"
      ]
     },
     "execution_count": 41,
     "metadata": {},
     "output_type": "execute_result"
    }
   ],
   "source": [
    "df.skew()"
   ]
  },
  {
   "cell_type": "markdown",
   "id": "e3df1687",
   "metadata": {},
   "source": [
    "# Bivariate Analysis"
   ]
  },
  {
   "cell_type": "code",
   "execution_count": 42,
   "id": "2852019f",
   "metadata": {},
   "outputs": [
    {
     "data": {
      "text/plain": [
       "<matplotlib.collections.PathCollection at 0x206f49b1400>"
      ]
     },
     "execution_count": 42,
     "metadata": {},
     "output_type": "execute_result"
    },
    {
     "data": {
      "image/png": "[encoded data removed]",
      "text/plain": [
       "<Figure size 640x480 with 1 Axes>"
      ]
     },
     "metadata": {},
     "output_type": "display_data"
    }
   ],
   "source": [
    "plt.scatter(df['Total Volume'],df['AveragePrice'])"
   ]
  },
  {
   "cell_type": "code",
   "execution_count": 43,
   "id": "76eb95b5",
   "metadata": {},
   "outputs": [
    {
     "data": {
      "text/plain": [
       "<matplotlib.collections.PathCollection at 0x206f4a217c0>"
      ]
     },
     "execution_count": 43,
     "metadata": {},
     "output_type": "execute_result"
    },
    {
     "data": {
      "image/png": "[encoded data removed]",
      "text/plain": [
       "<Figure size 640x480 with 1 Axes>"
      ]
     },
     "metadata": {},
     "output_type": "display_data"
    }
   ],
   "source": [
    "plt.scatter(df['Total Bags'],df['AveragePrice'])"
   ]
  },
  {
   "cell_type": "code",
   "execution_count": 44,
   "id": "59acf5ce",
   "metadata": {},
   "outputs": [
    {
     "data": {
      "text/html": [
       "<div>\n",
       "<style scoped>\n",
       "    .dataframe tbody tr th:only-of-type {\n",
       "        vertical-align: middle;\n",
       "    }\n",
       "\n",
       "    .dataframe tbody tr th {\n",
       "        vertical-align: top;\n",
       "    }\n",
       "\n",
       "    .dataframe thead th {\n",
       "        text-align: right;\n",
       "    }\n",
       "</style>\n",
       "<table border=\"1\" class=\"dataframe\">\n",
       "  <thead>\n",
       "    <tr style=\"text-align: right;\">\n",
       "      <th></th>\n",
       "      <th>AveragePrice</th>\n",
       "      <th>Total Volume</th>\n",
       "      <th>4046</th>\n",
       "      <th>4225</th>\n",
       "      <th>4770</th>\n",
       "      <th>Total Bags</th>\n",
       "      <th>Small Bags</th>\n",
       "      <th>Large Bags</th>\n",
       "      <th>XLarge Bags</th>\n",
       "      <th>year</th>\n",
       "    </tr>\n",
       "  </thead>\n",
       "  <tbody>\n",
       "    <tr>\n",
       "      <th>AveragePrice</th>\n",
       "      <td>1.000000</td>\n",
       "      <td>-0.488566</td>\n",
       "      <td>-0.499613</td>\n",
       "      <td>-0.416745</td>\n",
       "      <td>-0.433402</td>\n",
       "      <td>-0.468342</td>\n",
       "      <td>-0.437754</td>\n",
       "      <td>-0.430645</td>\n",
       "      <td>-0.302900</td>\n",
       "      <td>0.093197</td>\n",
       "    </tr>\n",
       "    <tr>\n",
       "      <th>Total Volume</th>\n",
       "      <td>-0.488566</td>\n",
       "      <td>1.000000</td>\n",
       "      <td>0.936579</td>\n",
       "      <td>0.959318</td>\n",
       "      <td>0.855680</td>\n",
       "      <td>0.968592</td>\n",
       "      <td>0.960888</td>\n",
       "      <td>0.813446</td>\n",
       "      <td>0.736414</td>\n",
       "      <td>0.049149</td>\n",
       "    </tr>\n",
       "    <tr>\n",
       "      <th>4046</th>\n",
       "      <td>-0.499613</td>\n",
       "      <td>0.936579</td>\n",
       "      <td>1.000000</td>\n",
       "      <td>0.826342</td>\n",
       "      <td>0.790790</td>\n",
       "      <td>0.889873</td>\n",
       "      <td>0.880089</td>\n",
       "      <td>0.769275</td>\n",
       "      <td>0.693262</td>\n",
       "      <td>0.012694</td>\n",
       "    </tr>\n",
       "    <tr>\n",
       "      <th>4225</th>\n",
       "      <td>-0.416745</td>\n",
       "      <td>0.959318</td>\n",
       "      <td>0.826342</td>\n",
       "      <td>1.000000</td>\n",
       "      <td>0.845655</td>\n",
       "      <td>0.905044</td>\n",
       "      <td>0.904775</td>\n",
       "      <td>0.735340</td>\n",
       "      <td>0.691925</td>\n",
       "      <td>-0.004311</td>\n",
       "    </tr>\n",
       "    <tr>\n",
       "      <th>4770</th>\n",
       "      <td>-0.433402</td>\n",
       "      <td>0.855680</td>\n",
       "      <td>0.790790</td>\n",
       "      <td>0.845655</td>\n",
       "      <td>1.000000</td>\n",
       "      <td>0.803904</td>\n",
       "      <td>0.809414</td>\n",
       "      <td>0.639581</td>\n",
       "      <td>0.729334</td>\n",
       "      <td>-0.062421</td>\n",
       "    </tr>\n",
       "    <tr>\n",
       "      <th>Total Bags</th>\n",
       "      <td>-0.468342</td>\n",
       "      <td>0.968592</td>\n",
       "      <td>0.889873</td>\n",
       "      <td>0.905044</td>\n",
       "      <td>0.803904</td>\n",
       "      <td>1.000000</td>\n",
       "      <td>0.982716</td>\n",
       "      <td>0.858497</td>\n",
       "      <td>0.743290</td>\n",
       "      <td>0.158680</td>\n",
       "    </tr>\n",
       "    <tr>\n",
       "      <th>Small Bags</th>\n",
       "      <td>-0.437754</td>\n",
       "      <td>0.960888</td>\n",
       "      <td>0.880089</td>\n",
       "      <td>0.904775</td>\n",
       "      <td>0.809414</td>\n",
       "      <td>0.982716</td>\n",
       "      <td>1.000000</td>\n",
       "      <td>0.764841</td>\n",
       "      <td>0.742418</td>\n",
       "      <td>0.143385</td>\n",
       "    </tr>\n",
       "    <tr>\n",
       "      <th>Large Bags</th>\n",
       "      <td>-0.430645</td>\n",
       "      <td>0.813446</td>\n",
       "      <td>0.769275</td>\n",
       "      <td>0.735340</td>\n",
       "      <td>0.639581</td>\n",
       "      <td>0.858497</td>\n",
       "      <td>0.764841</td>\n",
       "      <td>1.000000</td>\n",
       "      <td>0.592155</td>\n",
       "      <td>0.166212</td>\n",
       "    </tr>\n",
       "    <tr>\n",
       "      <th>XLarge Bags</th>\n",
       "      <td>-0.302900</td>\n",
       "      <td>0.736414</td>\n",
       "      <td>0.693262</td>\n",
       "      <td>0.691925</td>\n",
       "      <td>0.729334</td>\n",
       "      <td>0.743290</td>\n",
       "      <td>0.742418</td>\n",
       "      <td>0.592155</td>\n",
       "      <td>1.000000</td>\n",
       "      <td>0.151598</td>\n",
       "    </tr>\n",
       "    <tr>\n",
       "      <th>year</th>\n",
       "      <td>0.093197</td>\n",
       "      <td>0.049149</td>\n",
       "      <td>0.012694</td>\n",
       "      <td>-0.004311</td>\n",
       "      <td>-0.062421</td>\n",
       "      <td>0.158680</td>\n",
       "      <td>0.143385</td>\n",
       "      <td>0.166212</td>\n",
       "      <td>0.151598</td>\n",
       "      <td>1.000000</td>\n",
       "    </tr>\n",
       "  </tbody>\n",
       "</table>\n",
       "</div>"
      ],
      "text/plain": [
       "              AveragePrice  Total Volume      4046      4225      4770  \\\n",
       "AveragePrice      1.000000     -0.488566 -0.499613 -0.416745 -0.433402   \n",
       "Total Volume     -0.488566      1.000000  0.936579  0.959318  0.855680   \n",
       "4046             -0.499613      0.936579  1.000000  0.826342  0.790790   \n",
       "4225             -0.416745      0.959318  0.826342  1.000000  0.845655   \n",
       "4770             -0.433402      0.855680  0.790790  0.845655  1.000000   \n",
       "Total Bags       -0.468342      0.968592  0.889873  0.905044  0.803904   \n",
       "Small Bags       -0.437754      0.960888  0.880089  0.904775  0.809414   \n",
       "Large Bags       -0.430645      0.813446  0.769275  0.735340  0.639581   \n",
       "XLarge Bags      -0.302900      0.736414  0.693262  0.691925  0.729334   \n",
       "year              0.093197      0.049149  0.012694 -0.004311 -0.062421   \n",
       "\n",
       "              Total Bags  Small Bags  Large Bags  XLarge Bags      year  \n",
       "AveragePrice   -0.468342   -0.437754   -0.430645    -0.302900  0.093197  \n",
       "Total Volume    0.968592    0.960888    0.813446     0.736414  0.049149  \n",
       "4046            0.889873    0.880089    0.769275     0.693262  0.012694  \n",
       "4225            0.905044    0.904775    0.735340     0.691925 -0.004311  \n",
       "4770            0.803904    0.809414    0.639581     0.729334 -0.062421  \n",
       "Total Bags      1.000000    0.982716    0.858497     0.743290  0.158680  \n",
       "Small Bags      0.982716    1.000000    0.764841     0.742418  0.143385  \n",
       "Large Bags      0.858497    0.764841    1.000000     0.592155  0.166212  \n",
       "XLarge Bags     0.743290    0.742418    0.592155     1.000000  0.151598  \n",
       "year            0.158680    0.143385    0.166212     0.151598  1.000000  "
      ]
     },
     "execution_count": 44,
     "metadata": {},
     "output_type": "execute_result"
    }
   ],
   "source": [
    "#checking for correlation\n",
    "df.corr()"
   ]
  },
  {
   "cell_type": "code",
   "execution_count": 45,
   "id": "606913f4",
   "metadata": {},
   "outputs": [
    {
     "data": {
      "text/plain": [
       "<AxesSubplot:>"
      ]
     },
     "execution_count": 45,
     "metadata": {},
     "output_type": "execute_result"
    },
    {
     "data": {
      "image/png": "[encoded data removed]",
      "text/plain": [
       "<Figure size 2000x1000 with 2 Axes>"
      ]
     },
     "metadata": {},
     "output_type": "display_data"
    }
   ],
   "source": [
    "#Visualizing it using heatmap\n",
    "plt.figure(figsize=(20,10))\n",
    "sns.heatmap(df.corr(),annot=True)"
   ]
  },
  {
   "cell_type": "code",
   "execution_count": 46,
   "id": "b76b26ea",
   "metadata": {},
   "outputs": [
    {
     "data": {
      "text/plain": [
       "4046           -0.499613\n",
       "Total Volume   -0.488566\n",
       "Total Bags     -0.468342\n",
       "Small Bags     -0.437754\n",
       "4770           -0.433402\n",
       "Large Bags     -0.430645\n",
       "4225           -0.416745\n",
       "XLarge Bags    -0.302900\n",
       "year            0.093197\n",
       "AveragePrice    1.000000\n",
       "Name: AveragePrice, dtype: float64"
      ]
     },
     "execution_count": 46,
     "metadata": {},
     "output_type": "execute_result"
    }
   ],
   "source": [
    "df.corr().AveragePrice.sort_values()"
   ]
  },
  {
   "cell_type": "code",
   "execution_count": 47,
   "id": "55dd0cad",
   "metadata": {},
   "outputs": [
    {
     "data": {
      "image/png": "[encoded data removed]",
      "text/plain": [
       "<Figure size 2200x700 with 1 Axes>"
      ]
     },
     "metadata": {},
     "output_type": "display_data"
    }
   ],
   "source": [
    "plt.figure(figsize=(22,7))\n",
    "df.corr()['AveragePrice'].sort_values(ascending=False).drop(['AveragePrice']).plot(kind='bar',color='m')\n",
    "plt.xlabel('Feature',fontsize=15)\n",
    "plt.ylabel('Target',fontsize=15)\n",
    "plt.title('Correlation between label and features using bar plot-',fontsize=20)\n",
    "plt.show()"
   ]
  },
  {
   "cell_type": "markdown",
   "id": "3cafcaa9",
   "metadata": {},
   "source": [
    "# Encoding the categoical columns"
   ]
  },
  {
   "cell_type": "code",
   "execution_count": 48,
   "id": "ea104f43",
   "metadata": {},
   "outputs": [],
   "source": [
    "#Encoding categorical columns using label encoder\n",
    "from sklearn.preprocessing import LabelEncoder\n",
    "le=LabelEncoder()\n",
    "for i in df.columns:\n",
    "    if df[i].dtypes=='object':\n",
    "        df[i]=le.fit_transform(df[i].values.reshape(-1,1))"
   ]
  },
  {
   "cell_type": "markdown",
   "id": "75a0b3c7",
   "metadata": {},
   "source": [
    "# Removing the outliers using the zscore"
   ]
  },
  {
   "cell_type": "code",
   "execution_count": 49,
   "id": "769e5a58",
   "metadata": {},
   "outputs": [],
   "source": [
    "#Removing outliers\n",
    "from scipy.stats import zscore\n",
    "z=np.abs(zscore(df))"
   ]
  },
  {
   "cell_type": "code",
   "execution_count": 50,
   "id": "b45d3c16",
   "metadata": {},
   "outputs": [
    {
     "name": "stdout",
     "output_type": "stream",
     "text": [
      "(array([  313,   326,   327, ..., 17304, 17402, 17428], dtype=int64), array([4, 4, 4, ..., 0, 0, 0], dtype=int64))\n"
     ]
    }
   ],
   "source": [
    "threshold=3\n",
    "print(np.where(z>3))"
   ]
  },
  {
   "cell_type": "code",
   "execution_count": 51,
   "id": "cc3aa5fe",
   "metadata": {},
   "outputs": [],
   "source": [
    "df1=df[(z<3).all(axis=1)]"
   ]
  },
  {
   "cell_type": "code",
   "execution_count": 52,
   "id": "4c1e0f72",
   "metadata": {},
   "outputs": [
    {
     "data": {
      "text/plain": [
       "(18249, 12)"
      ]
     },
     "execution_count": 52,
     "metadata": {},
     "output_type": "execute_result"
    }
   ],
   "source": [
    "df.shape"
   ]
  },
  {
   "cell_type": "code",
   "execution_count": 53,
   "id": "b2053649",
   "metadata": {},
   "outputs": [
    {
     "data": {
      "text/plain": [
       "(17212, 12)"
      ]
     },
     "execution_count": 53,
     "metadata": {},
     "output_type": "execute_result"
    }
   ],
   "source": [
    "df1.shape"
   ]
  },
  {
   "cell_type": "code",
   "execution_count": 54,
   "id": "ba98dc13",
   "metadata": {},
   "outputs": [],
   "source": [
    "#Separating the target and independent variables into x and y\n",
    "x=df1.drop('region',axis=1)\n",
    "y=df1['region']\n"
   ]
  },
  {
   "cell_type": "code",
   "execution_count": 55,
   "id": "e9228bb2",
   "metadata": {},
   "outputs": [
    {
     "data": {
      "text/html": [
       "<div>\n",
       "<style scoped>\n",
       "    .dataframe tbody tr th:only-of-type {\n",
       "        vertical-align: middle;\n",
       "    }\n",
       "\n",
       "    .dataframe tbody tr th {\n",
       "        vertical-align: top;\n",
       "    }\n",
       "\n",
       "    .dataframe thead th {\n",
       "        text-align: right;\n",
       "    }\n",
       "</style>\n",
       "<table border=\"1\" class=\"dataframe\">\n",
       "  <thead>\n",
       "    <tr style=\"text-align: right;\">\n",
       "      <th></th>\n",
       "      <th>AveragePrice</th>\n",
       "      <th>Total Volume</th>\n",
       "      <th>4046</th>\n",
       "      <th>4225</th>\n",
       "      <th>4770</th>\n",
       "      <th>Total Bags</th>\n",
       "      <th>Small Bags</th>\n",
       "      <th>Large Bags</th>\n",
       "      <th>XLarge Bags</th>\n",
       "      <th>type</th>\n",
       "      <th>year</th>\n",
       "    </tr>\n",
       "  </thead>\n",
       "  <tbody>\n",
       "    <tr>\n",
       "      <th>0</th>\n",
       "      <td>-0.216583</td>\n",
       "      <td>-0.320529</td>\n",
       "      <td>-0.713265</td>\n",
       "      <td>0.136446</td>\n",
       "      <td>-0.517403</td>\n",
       "      <td>-0.641527</td>\n",
       "      <td>-0.496871</td>\n",
       "      <td>-0.795019</td>\n",
       "      <td>-0.517517</td>\n",
       "      <td>-1.045905</td>\n",
       "      <td>-1.206427</td>\n",
       "    </tr>\n",
       "    <tr>\n",
       "      <th>1</th>\n",
       "      <td>-0.164663</td>\n",
       "      <td>-0.380153</td>\n",
       "      <td>-0.763681</td>\n",
       "      <td>0.043357</td>\n",
       "      <td>-0.497718</td>\n",
       "      <td>-0.613254</td>\n",
       "      <td>-0.466960</td>\n",
       "      <td>-0.790773</td>\n",
       "      <td>-0.517517</td>\n",
       "      <td>-1.045905</td>\n",
       "      <td>-1.206427</td>\n",
       "    </tr>\n",
       "    <tr>\n",
       "      <th>2</th>\n",
       "      <td>-1.254973</td>\n",
       "      <td>-0.057651</td>\n",
       "      <td>-0.745272</td>\n",
       "      <td>0.515208</td>\n",
       "      <td>-0.399749</td>\n",
       "      <td>-0.661829</td>\n",
       "      <td>-0.518868</td>\n",
       "      <td>-0.785301</td>\n",
       "      <td>-0.517517</td>\n",
       "      <td>-1.045905</td>\n",
       "      <td>-1.206427</td>\n",
       "    </tr>\n",
       "    <tr>\n",
       "      <th>3</th>\n",
       "      <td>-0.865577</td>\n",
       "      <td>-0.237335</td>\n",
       "      <td>-0.702043</td>\n",
       "      <td>0.277948</td>\n",
       "      <td>-0.473670</td>\n",
       "      <td>-0.759718</td>\n",
       "      <td>-0.624838</td>\n",
       "      <td>-0.758678</td>\n",
       "      <td>-0.517517</td>\n",
       "      <td>-1.045905</td>\n",
       "      <td>-1.206427</td>\n",
       "    </tr>\n",
       "    <tr>\n",
       "      <th>4</th>\n",
       "      <td>-0.346382</td>\n",
       "      <td>-0.406565</td>\n",
       "      <td>-0.725197</td>\n",
       "      <td>0.035185</td>\n",
       "      <td>-0.468712</td>\n",
       "      <td>-0.742511</td>\n",
       "      <td>-0.609499</td>\n",
       "      <td>-0.714072</td>\n",
       "      <td>-0.517517</td>\n",
       "      <td>-1.045905</td>\n",
       "      <td>-1.206427</td>\n",
       "    </tr>\n",
       "    <tr>\n",
       "      <th>...</th>\n",
       "      <td>...</td>\n",
       "      <td>...</td>\n",
       "      <td>...</td>\n",
       "      <td>...</td>\n",
       "      <td>...</td>\n",
       "      <td>...</td>\n",
       "      <td>...</td>\n",
       "      <td>...</td>\n",
       "      <td>...</td>\n",
       "      <td>...</td>\n",
       "      <td>...</td>\n",
       "    </tr>\n",
       "    <tr>\n",
       "      <th>17207</th>\n",
       "      <td>0.562210</td>\n",
       "      <td>-0.736793</td>\n",
       "      <td>-0.617207</td>\n",
       "      <td>-0.874247</td>\n",
       "      <td>-0.815909</td>\n",
       "      <td>-0.493194</td>\n",
       "      <td>-0.349050</td>\n",
       "      <td>-0.605374</td>\n",
       "      <td>-0.517517</td>\n",
       "      <td>0.956110</td>\n",
       "      <td>1.983611</td>\n",
       "    </tr>\n",
       "    <tr>\n",
       "      <th>17208</th>\n",
       "      <td>0.769888</td>\n",
       "      <td>-0.786676</td>\n",
       "      <td>-0.695328</td>\n",
       "      <td>-0.737778</td>\n",
       "      <td>-0.815909</td>\n",
       "      <td>-0.621497</td>\n",
       "      <td>-0.484145</td>\n",
       "      <td>-0.648316</td>\n",
       "      <td>-0.517517</td>\n",
       "      <td>0.956110</td>\n",
       "      <td>1.983611</td>\n",
       "    </tr>\n",
       "    <tr>\n",
       "      <th>17209</th>\n",
       "      <td>1.185245</td>\n",
       "      <td>-0.788719</td>\n",
       "      <td>-0.695303</td>\n",
       "      <td>-0.798963</td>\n",
       "      <td>-0.077853</td>\n",
       "      <td>-0.617053</td>\n",
       "      <td>-0.468996</td>\n",
       "      <td>-0.860879</td>\n",
       "      <td>-0.517517</td>\n",
       "      <td>0.956110</td>\n",
       "      <td>1.983611</td>\n",
       "    </tr>\n",
       "    <tr>\n",
       "      <th>17210</th>\n",
       "      <td>1.341003</td>\n",
       "      <td>-0.749742</td>\n",
       "      <td>-0.661210</td>\n",
       "      <td>-0.764257</td>\n",
       "      <td>-0.078168</td>\n",
       "      <td>-0.565906</td>\n",
       "      <td>-0.415082</td>\n",
       "      <td>-0.848369</td>\n",
       "      <td>-0.517517</td>\n",
       "      <td>0.956110</td>\n",
       "      <td>1.983611</td>\n",
       "    </tr>\n",
       "    <tr>\n",
       "      <th>17211</th>\n",
       "      <td>0.536250</td>\n",
       "      <td>-0.730772</td>\n",
       "      <td>-0.559231</td>\n",
       "      <td>-0.805841</td>\n",
       "      <td>-0.317237</td>\n",
       "      <td>-0.534644</td>\n",
       "      <td>-0.381234</td>\n",
       "      <td>-0.893596</td>\n",
       "      <td>-0.517517</td>\n",
       "      <td>0.956110</td>\n",
       "      <td>1.983611</td>\n",
       "    </tr>\n",
       "  </tbody>\n",
       "</table>\n",
       "<p>17212 rows × 11 columns</p>\n",
       "</div>"
      ],
      "text/plain": [
       "       AveragePrice  Total Volume      4046      4225      4770  Total Bags  \\\n",
       "0         -0.216583     -0.320529 -0.713265  0.136446 -0.517403   -0.641527   \n",
       "1         -0.164663     -0.380153 -0.763681  0.043357 -0.497718   -0.613254   \n",
       "2         -1.254973     -0.057651 -0.745272  0.515208 -0.399749   -0.661829   \n",
       "3         -0.865577     -0.237335 -0.702043  0.277948 -0.473670   -0.759718   \n",
       "4         -0.346382     -0.406565 -0.725197  0.035185 -0.468712   -0.742511   \n",
       "...             ...           ...       ...       ...       ...         ...   \n",
       "17207      0.562210     -0.736793 -0.617207 -0.874247 -0.815909   -0.493194   \n",
       "17208      0.769888     -0.786676 -0.695328 -0.737778 -0.815909   -0.621497   \n",
       "17209      1.185245     -0.788719 -0.695303 -0.798963 -0.077853   -0.617053   \n",
       "17210      1.341003     -0.749742 -0.661210 -0.764257 -0.078168   -0.565906   \n",
       "17211      0.536250     -0.730772 -0.559231 -0.805841 -0.317237   -0.534644   \n",
       "\n",
       "       Small Bags  Large Bags  XLarge Bags      type      year  \n",
       "0       -0.496871   -0.795019    -0.517517 -1.045905 -1.206427  \n",
       "1       -0.466960   -0.790773    -0.517517 -1.045905 -1.206427  \n",
       "2       -0.518868   -0.785301    -0.517517 -1.045905 -1.206427  \n",
       "3       -0.624838   -0.758678    -0.517517 -1.045905 -1.206427  \n",
       "4       -0.609499   -0.714072    -0.517517 -1.045905 -1.206427  \n",
       "...           ...         ...          ...       ...       ...  \n",
       "17207   -0.349050   -0.605374    -0.517517  0.956110  1.983611  \n",
       "17208   -0.484145   -0.648316    -0.517517  0.956110  1.983611  \n",
       "17209   -0.468996   -0.860879    -0.517517  0.956110  1.983611  \n",
       "17210   -0.415082   -0.848369    -0.517517  0.956110  1.983611  \n",
       "17211   -0.381234   -0.893596    -0.517517  0.956110  1.983611  \n",
       "\n",
       "[17212 rows x 11 columns]"
      ]
     },
     "execution_count": 55,
     "metadata": {},
     "output_type": "execute_result"
    }
   ],
   "source": [
    "#Feature scaling using StandardScaler\n",
    "from sklearn.preprocessing import StandardScaler\n",
    "scaler=StandardScaler()\n",
    "x=pd.DataFrame(scaler.fit_transform(x),columns=x.columns)\n",
    "x"
   ]
  },
  {
   "cell_type": "code",
   "execution_count": 56,
   "id": "86fefd17",
   "metadata": {},
   "outputs": [
    {
     "data": {
      "text/html": [
       "<div>\n",
       "<style scoped>\n",
       "    .dataframe tbody tr th:only-of-type {\n",
       "        vertical-align: middle;\n",
       "    }\n",
       "\n",
       "    .dataframe tbody tr th {\n",
       "        vertical-align: top;\n",
       "    }\n",
       "\n",
       "    .dataframe thead th {\n",
       "        text-align: right;\n",
       "    }\n",
       "</style>\n",
       "<table border=\"1\" class=\"dataframe\">\n",
       "  <thead>\n",
       "    <tr style=\"text-align: right;\">\n",
       "      <th></th>\n",
       "      <th>VIF values</th>\n",
       "      <th>Features</th>\n",
       "    </tr>\n",
       "  </thead>\n",
       "  <tbody>\n",
       "    <tr>\n",
       "      <th>0</th>\n",
       "      <td>2.003191</td>\n",
       "      <td>AveragePrice</td>\n",
       "    </tr>\n",
       "    <tr>\n",
       "      <th>1</th>\n",
       "      <td>171.938343</td>\n",
       "      <td>Total Volume</td>\n",
       "    </tr>\n",
       "    <tr>\n",
       "      <th>2</th>\n",
       "      <td>20.162188</td>\n",
       "      <td>4046</td>\n",
       "    </tr>\n",
       "    <tr>\n",
       "      <th>3</th>\n",
       "      <td>36.308392</td>\n",
       "      <td>4225</td>\n",
       "    </tr>\n",
       "    <tr>\n",
       "      <th>4</th>\n",
       "      <td>2.908499</td>\n",
       "      <td>4770</td>\n",
       "    </tr>\n",
       "    <tr>\n",
       "      <th>5</th>\n",
       "      <td>102.739573</td>\n",
       "      <td>Total Bags</td>\n",
       "    </tr>\n",
       "    <tr>\n",
       "      <th>6</th>\n",
       "      <td>56.258712</td>\n",
       "      <td>Small Bags</td>\n",
       "    </tr>\n",
       "    <tr>\n",
       "      <th>7</th>\n",
       "      <td>8.659705</td>\n",
       "      <td>Large Bags</td>\n",
       "    </tr>\n",
       "    <tr>\n",
       "      <th>8</th>\n",
       "      <td>1.721523</td>\n",
       "      <td>XLarge Bags</td>\n",
       "    </tr>\n",
       "    <tr>\n",
       "      <th>9</th>\n",
       "      <td>2.881018</td>\n",
       "      <td>type</td>\n",
       "    </tr>\n",
       "    <tr>\n",
       "      <th>10</th>\n",
       "      <td>1.347169</td>\n",
       "      <td>year</td>\n",
       "    </tr>\n",
       "  </tbody>\n",
       "</table>\n",
       "</div>"
      ],
      "text/plain": [
       "    VIF values      Features\n",
       "0     2.003191  AveragePrice\n",
       "1   171.938343  Total Volume\n",
       "2    20.162188          4046\n",
       "3    36.308392          4225\n",
       "4     2.908499          4770\n",
       "5   102.739573    Total Bags\n",
       "6    56.258712    Small Bags\n",
       "7     8.659705    Large Bags\n",
       "8     1.721523   XLarge Bags\n",
       "9     2.881018          type\n",
       "10    1.347169          year"
      ]
     },
     "execution_count": 56,
     "metadata": {},
     "output_type": "execute_result"
    }
   ],
   "source": [
    "#Finding variance inflation factor in each scaled column i.e x.shape[1] (1/(1-R2))\n",
    "from statsmodels.stats.outliers_influence import variance_inflation_factor\n",
    "vif=pd.DataFrame()\n",
    "vif['VIF values']=[variance_inflation_factor(x.values,i) for i in range(len(x.columns))]\n",
    "vif['Features']=x.columns\n",
    "\n",
    "vif"
   ]
  },
  {
   "cell_type": "markdown",
   "id": "b3466ee2",
   "metadata": {},
   "source": [
    "From the vif observation we can see that total volume and total bags are highly correlated to each other, so we \n",
    "have to remove the total volume column, also 4225 and smallbags are highly correlated, so we hyave to remove the small \n",
    "bags also "
   ]
  },
  {
   "cell_type": "code",
   "execution_count": 57,
   "id": "9c6d71d8",
   "metadata": {},
   "outputs": [],
   "source": [
    "x.drop(columns=['Total Volume','Small Bags'],axis=1,inplace=True)"
   ]
  },
  {
   "cell_type": "code",
   "execution_count": 58,
   "id": "d057b813",
   "metadata": {},
   "outputs": [
    {
     "data": {
      "text/html": [
       "<div>\n",
       "<style scoped>\n",
       "    .dataframe tbody tr th:only-of-type {\n",
       "        vertical-align: middle;\n",
       "    }\n",
       "\n",
       "    .dataframe tbody tr th {\n",
       "        vertical-align: top;\n",
       "    }\n",
       "\n",
       "    .dataframe thead th {\n",
       "        text-align: right;\n",
       "    }\n",
       "</style>\n",
       "<table border=\"1\" class=\"dataframe\">\n",
       "  <thead>\n",
       "    <tr style=\"text-align: right;\">\n",
       "      <th></th>\n",
       "      <th>AveragePrice</th>\n",
       "      <th>4046</th>\n",
       "      <th>4225</th>\n",
       "      <th>4770</th>\n",
       "      <th>Total Bags</th>\n",
       "      <th>Large Bags</th>\n",
       "      <th>XLarge Bags</th>\n",
       "      <th>type</th>\n",
       "      <th>year</th>\n",
       "    </tr>\n",
       "  </thead>\n",
       "  <tbody>\n",
       "    <tr>\n",
       "      <th>0</th>\n",
       "      <td>-0.216583</td>\n",
       "      <td>-0.713265</td>\n",
       "      <td>0.136446</td>\n",
       "      <td>-0.517403</td>\n",
       "      <td>-0.641527</td>\n",
       "      <td>-0.795019</td>\n",
       "      <td>-0.517517</td>\n",
       "      <td>-1.045905</td>\n",
       "      <td>-1.206427</td>\n",
       "    </tr>\n",
       "    <tr>\n",
       "      <th>1</th>\n",
       "      <td>-0.164663</td>\n",
       "      <td>-0.763681</td>\n",
       "      <td>0.043357</td>\n",
       "      <td>-0.497718</td>\n",
       "      <td>-0.613254</td>\n",
       "      <td>-0.790773</td>\n",
       "      <td>-0.517517</td>\n",
       "      <td>-1.045905</td>\n",
       "      <td>-1.206427</td>\n",
       "    </tr>\n",
       "    <tr>\n",
       "      <th>2</th>\n",
       "      <td>-1.254973</td>\n",
       "      <td>-0.745272</td>\n",
       "      <td>0.515208</td>\n",
       "      <td>-0.399749</td>\n",
       "      <td>-0.661829</td>\n",
       "      <td>-0.785301</td>\n",
       "      <td>-0.517517</td>\n",
       "      <td>-1.045905</td>\n",
       "      <td>-1.206427</td>\n",
       "    </tr>\n",
       "    <tr>\n",
       "      <th>3</th>\n",
       "      <td>-0.865577</td>\n",
       "      <td>-0.702043</td>\n",
       "      <td>0.277948</td>\n",
       "      <td>-0.473670</td>\n",
       "      <td>-0.759718</td>\n",
       "      <td>-0.758678</td>\n",
       "      <td>-0.517517</td>\n",
       "      <td>-1.045905</td>\n",
       "      <td>-1.206427</td>\n",
       "    </tr>\n",
       "    <tr>\n",
       "      <th>4</th>\n",
       "      <td>-0.346382</td>\n",
       "      <td>-0.725197</td>\n",
       "      <td>0.035185</td>\n",
       "      <td>-0.468712</td>\n",
       "      <td>-0.742511</td>\n",
       "      <td>-0.714072</td>\n",
       "      <td>-0.517517</td>\n",
       "      <td>-1.045905</td>\n",
       "      <td>-1.206427</td>\n",
       "    </tr>\n",
       "  </tbody>\n",
       "</table>\n",
       "</div>"
      ],
      "text/plain": [
       "   AveragePrice      4046      4225      4770  Total Bags  Large Bags  \\\n",
       "0     -0.216583 -0.713265  0.136446 -0.517403   -0.641527   -0.795019   \n",
       "1     -0.164663 -0.763681  0.043357 -0.497718   -0.613254   -0.790773   \n",
       "2     -1.254973 -0.745272  0.515208 -0.399749   -0.661829   -0.785301   \n",
       "3     -0.865577 -0.702043  0.277948 -0.473670   -0.759718   -0.758678   \n",
       "4     -0.346382 -0.725197  0.035185 -0.468712   -0.742511   -0.714072   \n",
       "\n",
       "   XLarge Bags      type      year  \n",
       "0    -0.517517 -1.045905 -1.206427  \n",
       "1    -0.517517 -1.045905 -1.206427  \n",
       "2    -0.517517 -1.045905 -1.206427  \n",
       "3    -0.517517 -1.045905 -1.206427  \n",
       "4    -0.517517 -1.045905 -1.206427  "
      ]
     },
     "execution_count": 58,
     "metadata": {},
     "output_type": "execute_result"
    }
   ],
   "source": [
    "x.head()"
   ]
  },
  {
   "cell_type": "markdown",
   "id": "f92dcfeb",
   "metadata": {},
   "source": [
    "# Splitting the data and finding the best model "
   ]
  },
  {
   "cell_type": "code",
   "execution_count": 59,
   "id": "407e9dc0",
   "metadata": {},
   "outputs": [],
   "source": [
    "#importing required libraries\n",
    "from sklearn.model_selection import train_test_split\n",
    "from sklearn.metrics import mean_absolute_error,mean_squared_error,r2_score\n",
    "from sklearn.metrics import accuracy_score,confusion_matrix,classification_report\n",
    "from sklearn.neighbors import KNeighborsClassifier\n",
    "from sklearn.ensemble import RandomForestClassifier\n",
    "from sklearn.linear_model import Ridge,Lasso,RidgeCV,LassoCV\n",
    "from sklearn.model_selection import GridSearchCV\n",
    "from sklearn.feature_selection import SelectKBest,f_classif\n",
    "from sklearn.model_selection import KFold,cross_val_score"
   ]
  },
  {
   "cell_type": "code",
   "execution_count": 60,
   "id": "ad18604e",
   "metadata": {},
   "outputs": [],
   "source": [
    "x_train,x_test,y_train,y_test=train_test_split(x,y,test_size=0.20,random_state=42)"
   ]
  },
  {
   "cell_type": "code",
   "execution_count": 61,
   "id": "2345c1bc",
   "metadata": {},
   "outputs": [
    {
     "data": {
      "text/plain": [
       "(13769, 9)"
      ]
     },
     "execution_count": 61,
     "metadata": {},
     "output_type": "execute_result"
    }
   ],
   "source": [
    "x_train.shape"
   ]
  },
  {
   "cell_type": "code",
   "execution_count": 62,
   "id": "7f480ccd",
   "metadata": {},
   "outputs": [
    {
     "data": {
      "text/plain": [
       "(3443, 9)"
      ]
     },
     "execution_count": 62,
     "metadata": {},
     "output_type": "execute_result"
    }
   ],
   "source": [
    "x_test.shape"
   ]
  },
  {
   "cell_type": "code",
   "execution_count": 63,
   "id": "e3e3a76b",
   "metadata": {},
   "outputs": [
    {
     "data": {
      "text/plain": [
       "(13769,)"
      ]
     },
     "execution_count": 63,
     "metadata": {},
     "output_type": "execute_result"
    }
   ],
   "source": [
    "y_train.shape"
   ]
  },
  {
   "cell_type": "code",
   "execution_count": 64,
   "id": "55bcd500",
   "metadata": {},
   "outputs": [
    {
     "data": {
      "text/plain": [
       "(3443,)"
      ]
     },
     "execution_count": 64,
     "metadata": {},
     "output_type": "execute_result"
    }
   ],
   "source": [
    "y_test.shape"
   ]
  },
  {
   "cell_type": "markdown",
   "id": "17e933a7",
   "metadata": {},
   "source": [
    "# KNeighborsClassifier"
   ]
  },
  {
   "cell_type": "code",
   "execution_count": 65,
   "id": "5406a6da",
   "metadata": {},
   "outputs": [
    {
     "name": "stdout",
     "output_type": "stream",
     "text": [
      "Accuracy score is -- 0.8042404879465582\n",
      "Confusion matrix is -- [[75  0  0 ...  0  0  0]\n",
      " [ 0 53  0 ...  0  0  0]\n",
      " [ 0  0 60 ...  0  0  0]\n",
      " ...\n",
      " [ 0  0  0 ... 32  0  0]\n",
      " [ 0  0  0 ...  0 36  0]\n",
      " [ 0  1  0 ...  0  0 48]]\n",
      "Classification report is --               precision    recall  f1-score   support\n",
      "\n",
      "           0       0.88      0.75      0.81       100\n",
      "           1       0.73      0.61      0.66        87\n",
      "           2       0.98      0.94      0.96        64\n",
      "           3       0.76      0.72      0.74        69\n",
      "           4       0.85      0.88      0.86        65\n",
      "           5       0.78      0.77      0.78        74\n",
      "           6       0.98      0.96      0.97        45\n",
      "           7       0.91      0.89      0.90        76\n",
      "           8       0.97      0.95      0.96        74\n",
      "           9       0.77      0.69      0.73        72\n",
      "          10       0.64      0.58      0.61        74\n",
      "          11       0.89      0.81      0.85        62\n",
      "          12       0.76      1.00      0.86        59\n",
      "          13       0.63      0.60      0.62        55\n",
      "          14       0.92      0.80      0.85        84\n",
      "          15       0.97      0.90      0.93        31\n",
      "          16       0.89      0.91      0.90        54\n",
      "          17       0.89      0.83      0.86        69\n",
      "          18       0.86      0.87      0.86        68\n",
      "          19       0.82      0.70      0.75        70\n",
      "          20       0.78      0.88      0.83        66\n",
      "          21       0.72      0.77      0.75        74\n",
      "          22       0.97      0.97      0.97        63\n",
      "          23       0.73      0.72      0.72        64\n",
      "          24       0.55      0.48      0.52        64\n",
      "          25       0.94      0.95      0.95        64\n",
      "          26       0.67      0.70      0.69        70\n",
      "          27       0.65      0.82      0.72        61\n",
      "          28       0.87      1.00      0.93        62\n",
      "          29       0.95      0.97      0.96        61\n",
      "          30       0.86      0.88      0.87        65\n",
      "          31       0.57      0.53      0.55        77\n",
      "          32       0.85      0.91      0.88        67\n",
      "          33       0.74      0.70      0.72        60\n",
      "          34       0.86      0.94      0.90        66\n",
      "          35       0.97      0.84      0.90        74\n",
      "          36       0.78      0.68      0.72        74\n",
      "          37       0.83      0.82      0.82        66\n",
      "          38       0.79      0.79      0.79        52\n",
      "          39       0.78      0.64      0.70        67\n",
      "          40       0.85      0.80      0.83        66\n",
      "          41       0.77      0.87      0.82        71\n",
      "          42       0.86      0.94      0.90        67\n",
      "          43       0.74      0.85      0.79        66\n",
      "          44       0.89      0.83      0.86        66\n",
      "          45       0.97      0.90      0.93        39\n",
      "          46       0.89      0.98      0.93        48\n",
      "          47       0.67      0.83      0.74        53\n",
      "          48       0.58      0.79      0.67        42\n",
      "          49       0.81      0.72      0.76        72\n",
      "          50       0.39      0.54      0.45        54\n",
      "          51       1.00      1.00      1.00        32\n",
      "          52       0.95      0.95      0.95        38\n",
      "          53       0.77      0.80      0.79        60\n",
      "\n",
      "    accuracy                           0.80      3443\n",
      "   macro avg       0.81      0.81      0.81      3443\n",
      "weighted avg       0.81      0.80      0.80      3443\n",
      "\n"
     ]
    }
   ],
   "source": [
    "knn = KNeighborsClassifier()\n",
    "knn.fit(x_train,y_train)\n",
    "predknn=knn.predict(x_test)\n",
    "print('Accuracy score is --',accuracy_score(predknn,y_test))\n",
    "print('Confusion matrix is --',confusion_matrix(predknn,y_test))\n",
    "print('Classification report is --',classification_report(predknn,y_test))"
   ]
  },
  {
   "cell_type": "code",
   "execution_count": 88,
   "id": "0a79ba39",
   "metadata": {},
   "outputs": [
    {
     "data": {
      "text/plain": [
       "array([0.59483009, 0.5503921 , 0.60168507, 0.3878559 , 0.27513074])"
      ]
     },
     "execution_count": 88,
     "metadata": {},
     "output_type": "execute_result"
    }
   ],
   "source": [
    "#Cross validation score \n",
    "cross_val_score(knn,x,y,cv = 5)"
   ]
  },
  {
   "cell_type": "code",
   "execution_count": 89,
   "id": "4a21d9b9",
   "metadata": {},
   "outputs": [
    {
     "data": {
      "text/plain": [
       "0.4679188234116734"
      ]
     },
     "execution_count": 89,
     "metadata": {},
     "output_type": "execute_result"
    }
   ],
   "source": [
    "#cross validation for cross checking the accuracy score\n",
    "cross_val_score(KNeighborsClassifier(),x,y,cv =5).mean()"
   ]
  },
  {
   "cell_type": "code",
   "execution_count": 90,
   "id": "56548bfb",
   "metadata": {},
   "outputs": [],
   "source": [
    "# hyperparameter tunning for model better Accuracy using GridSerachCV\n",
    "param_grid = { 'algorithm' : ['kd_tree','brute'],'leaf_size' : [7,9,11,13,15],'n_neighbors' : [3,5,7,9,11,23]}"
   ]
  },
  {
   "cell_type": "code",
   "execution_count": 91,
   "id": "934434d9",
   "metadata": {},
   "outputs": [
    {
     "data": {
      "text/plain": [
       "{'algorithm': 'kd_tree', 'leaf_size': 7, 'n_neighbors': 3}"
      ]
     },
     "execution_count": 91,
     "metadata": {},
     "output_type": "execute_result"
    }
   ],
   "source": [
    "gri_se = GridSearchCV(estimator = knn,param_grid = param_grid)\n",
    "gri_se.fit(x_train,y_train)\n",
    "gri_se.best_params_"
   ]
  },
  {
   "cell_type": "code",
   "execution_count": 92,
   "id": "9fb356a6",
   "metadata": {},
   "outputs": [],
   "source": [
    "#Using kdtree for nearest neighbor with leafsize \n",
    "knn = KNeighborsClassifier(algorithm = 'kd_tree', leaf_size = 7 , n_neighbors = 3)"
   ]
  },
  {
   "cell_type": "code",
   "execution_count": 93,
   "id": "5a837f21",
   "metadata": {},
   "outputs": [
    {
     "data": {
      "text/plain": [
       "KNeighborsClassifier(algorithm='kd_tree', leaf_size=7, n_neighbors=3)"
      ]
     },
     "execution_count": 93,
     "metadata": {},
     "output_type": "execute_result"
    }
   ],
   "source": [
    "knn.fit(x_train,y_train)"
   ]
  },
  {
   "cell_type": "code",
   "execution_count": 94,
   "id": "50f0d3b6",
   "metadata": {},
   "outputs": [
    {
     "data": {
      "text/plain": [
       "KNeighborsClassifier(algorithm='kd_tree', leaf_size=7, n_neighbors=3)"
      ]
     },
     "execution_count": 94,
     "metadata": {},
     "output_type": "execute_result"
    }
   ],
   "source": [
    "KNeighborsClassifier(algorithm='kd_tree', leaf_size=7, n_neighbors=3)"
   ]
  },
  {
   "cell_type": "code",
   "execution_count": 95,
   "id": "82016794",
   "metadata": {},
   "outputs": [
    {
     "data": {
      "text/plain": [
       "array([21, 50, 39, ..., 41, 37, 11])"
      ]
     },
     "execution_count": 95,
     "metadata": {},
     "output_type": "execute_result"
    }
   ],
   "source": [
    "#Predicting the values\n",
    "predknn = knn.predict(x_test)\n",
    "predknn"
   ]
  },
  {
   "cell_type": "code",
   "execution_count": 96,
   "id": "ef4691f1",
   "metadata": {},
   "outputs": [
    {
     "name": "stdout",
     "output_type": "stream",
     "text": [
      "Accuracy score is--  0.8138251524832995\n",
      "confusion matrix is-- [[77  0  0 ...  0  0  0]\n",
      " [ 0 59  0 ...  0  0  1]\n",
      " [ 0  0 60 ...  0  0  1]\n",
      " ...\n",
      " [ 0  0  0 ... 32  0  0]\n",
      " [ 0  0  0 ...  0 36  0]\n",
      " [ 0  0  0 ...  0  0 50]]\n",
      "Classification report is--               precision    recall  f1-score   support\n",
      "\n",
      "           0       0.91      0.76      0.83       101\n",
      "           1       0.81      0.68      0.74        87\n",
      "           2       0.98      0.94      0.96        64\n",
      "           3       0.82      0.70      0.76        77\n",
      "           4       0.87      0.89      0.88        65\n",
      "           5       0.75      0.81      0.78        68\n",
      "           6       0.98      0.98      0.98        44\n",
      "           7       0.88      0.87      0.87        76\n",
      "           8       0.96      0.93      0.95        74\n",
      "           9       0.69      0.69      0.69        65\n",
      "          10       0.66      0.53      0.59        83\n",
      "          11       0.91      0.82      0.86        62\n",
      "          12       0.83      0.96      0.89        68\n",
      "          13       0.71      0.65      0.68        57\n",
      "          14       0.88      0.82      0.85        78\n",
      "          15       1.00      0.94      0.97        31\n",
      "          16       0.89      0.88      0.88        56\n",
      "          17       0.91      0.83      0.87        70\n",
      "          18       0.86      0.89      0.87        66\n",
      "          19       0.83      0.62      0.71        80\n",
      "          20       0.78      0.84      0.81        69\n",
      "          21       0.73      0.75      0.74        77\n",
      "          22       0.98      0.97      0.98        64\n",
      "          23       0.68      0.69      0.69        62\n",
      "          24       0.57      0.48      0.52        66\n",
      "          25       0.95      0.97      0.96        64\n",
      "          26       0.64      0.70      0.67        67\n",
      "          27       0.68      0.90      0.77        58\n",
      "          28       0.90      0.97      0.93        66\n",
      "          29       0.95      0.98      0.97        60\n",
      "          30       0.95      0.90      0.93        70\n",
      "          31       0.53      0.49      0.51        77\n",
      "          32       0.86      0.94      0.90        66\n",
      "          33       0.74      0.71      0.72        59\n",
      "          34       0.86      0.95      0.91        65\n",
      "          35       0.95      0.86      0.90        71\n",
      "          36       0.80      0.74      0.77        69\n",
      "          37       0.80      0.78      0.79        67\n",
      "          38       0.79      0.80      0.80        51\n",
      "          39       0.80      0.77      0.79        57\n",
      "          40       0.84      0.81      0.83        64\n",
      "          41       0.77      0.90      0.83        69\n",
      "          42       0.89      0.97      0.93        67\n",
      "          43       0.79      0.92      0.85        65\n",
      "          44       0.89      0.85      0.87        65\n",
      "          45       0.97      0.92      0.95        38\n",
      "          46       0.92      0.94      0.93        52\n",
      "          47       0.65      0.88      0.75        49\n",
      "          48       0.58      0.85      0.69        39\n",
      "          49       0.84      0.73      0.78        74\n",
      "          50       0.41      0.55      0.47        56\n",
      "          51       1.00      1.00      1.00        32\n",
      "          52       0.95      0.97      0.96        37\n",
      "          53       0.81      0.85      0.83        59\n",
      "\n",
      "    accuracy                           0.81      3443\n",
      "   macro avg       0.82      0.82      0.82      3443\n",
      "weighted avg       0.82      0.81      0.81      3443\n",
      "\n"
     ]
    }
   ],
   "source": [
    "print('Accuracy score is-- ', accuracy_score(predknn,y_test)) \n",
    "print('confusion matrix is--',confusion_matrix(predknn,y_test))\n",
    "print('Classification report is--',classification_report(predknn,y_test))"
   ]
  },
  {
   "cell_type": "code",
   "execution_count": 97,
   "id": "be004207",
   "metadata": {},
   "outputs": [],
   "source": [
    "# splitting the data for regression to finding the Average price\n",
    "a = df1.drop(columns = ['AveragePrice'])\n",
    "b = df1['AveragePrice']"
   ]
  },
  {
   "cell_type": "code",
   "execution_count": 102,
   "id": "001bfe16",
   "metadata": {},
   "outputs": [
    {
     "data": {
      "text/html": [
       "<div>\n",
       "<style scoped>\n",
       "    .dataframe tbody tr th:only-of-type {\n",
       "        vertical-align: middle;\n",
       "    }\n",
       "\n",
       "    .dataframe tbody tr th {\n",
       "        vertical-align: top;\n",
       "    }\n",
       "\n",
       "    .dataframe thead th {\n",
       "        text-align: right;\n",
       "    }\n",
       "</style>\n",
       "<table border=\"1\" class=\"dataframe\">\n",
       "  <thead>\n",
       "    <tr style=\"text-align: right;\">\n",
       "      <th></th>\n",
       "      <th>Total Volume</th>\n",
       "      <th>4046</th>\n",
       "      <th>4225</th>\n",
       "      <th>4770</th>\n",
       "      <th>Total Bags</th>\n",
       "      <th>Small Bags</th>\n",
       "      <th>Large Bags</th>\n",
       "      <th>XLarge Bags</th>\n",
       "      <th>type</th>\n",
       "      <th>year</th>\n",
       "      <th>region</th>\n",
       "    </tr>\n",
       "  </thead>\n",
       "  <tbody>\n",
       "    <tr>\n",
       "      <th>0</th>\n",
       "      <td>-0.320529</td>\n",
       "      <td>-0.713265</td>\n",
       "      <td>0.136446</td>\n",
       "      <td>-0.517403</td>\n",
       "      <td>-0.641527</td>\n",
       "      <td>-0.496871</td>\n",
       "      <td>-0.795019</td>\n",
       "      <td>-0.517517</td>\n",
       "      <td>-1.045905</td>\n",
       "      <td>-1.206427</td>\n",
       "      <td>-1.694905</td>\n",
       "    </tr>\n",
       "    <tr>\n",
       "      <th>1</th>\n",
       "      <td>-0.380153</td>\n",
       "      <td>-0.763681</td>\n",
       "      <td>0.043357</td>\n",
       "      <td>-0.497718</td>\n",
       "      <td>-0.613254</td>\n",
       "      <td>-0.466960</td>\n",
       "      <td>-0.790773</td>\n",
       "      <td>-0.517517</td>\n",
       "      <td>-1.045905</td>\n",
       "      <td>-1.206427</td>\n",
       "      <td>-1.694905</td>\n",
       "    </tr>\n",
       "    <tr>\n",
       "      <th>2</th>\n",
       "      <td>-0.057651</td>\n",
       "      <td>-0.745272</td>\n",
       "      <td>0.515208</td>\n",
       "      <td>-0.399749</td>\n",
       "      <td>-0.661829</td>\n",
       "      <td>-0.518868</td>\n",
       "      <td>-0.785301</td>\n",
       "      <td>-0.517517</td>\n",
       "      <td>-1.045905</td>\n",
       "      <td>-1.206427</td>\n",
       "      <td>-1.694905</td>\n",
       "    </tr>\n",
       "    <tr>\n",
       "      <th>3</th>\n",
       "      <td>-0.237335</td>\n",
       "      <td>-0.702043</td>\n",
       "      <td>0.277948</td>\n",
       "      <td>-0.473670</td>\n",
       "      <td>-0.759718</td>\n",
       "      <td>-0.624838</td>\n",
       "      <td>-0.758678</td>\n",
       "      <td>-0.517517</td>\n",
       "      <td>-1.045905</td>\n",
       "      <td>-1.206427</td>\n",
       "      <td>-1.694905</td>\n",
       "    </tr>\n",
       "    <tr>\n",
       "      <th>4</th>\n",
       "      <td>-0.406565</td>\n",
       "      <td>-0.725197</td>\n",
       "      <td>0.035185</td>\n",
       "      <td>-0.468712</td>\n",
       "      <td>-0.742511</td>\n",
       "      <td>-0.609499</td>\n",
       "      <td>-0.714072</td>\n",
       "      <td>-0.517517</td>\n",
       "      <td>-1.045905</td>\n",
       "      <td>-1.206427</td>\n",
       "      <td>-1.694905</td>\n",
       "    </tr>\n",
       "    <tr>\n",
       "      <th>...</th>\n",
       "      <td>...</td>\n",
       "      <td>...</td>\n",
       "      <td>...</td>\n",
       "      <td>...</td>\n",
       "      <td>...</td>\n",
       "      <td>...</td>\n",
       "      <td>...</td>\n",
       "      <td>...</td>\n",
       "      <td>...</td>\n",
       "      <td>...</td>\n",
       "      <td>...</td>\n",
       "    </tr>\n",
       "    <tr>\n",
       "      <th>17207</th>\n",
       "      <td>-0.736793</td>\n",
       "      <td>-0.617207</td>\n",
       "      <td>-0.874247</td>\n",
       "      <td>-0.815909</td>\n",
       "      <td>-0.493194</td>\n",
       "      <td>-0.349050</td>\n",
       "      <td>-0.605374</td>\n",
       "      <td>-0.517517</td>\n",
       "      <td>0.956110</td>\n",
       "      <td>1.983611</td>\n",
       "      <td>1.751606</td>\n",
       "    </tr>\n",
       "    <tr>\n",
       "      <th>17208</th>\n",
       "      <td>-0.786676</td>\n",
       "      <td>-0.695328</td>\n",
       "      <td>-0.737778</td>\n",
       "      <td>-0.815909</td>\n",
       "      <td>-0.621497</td>\n",
       "      <td>-0.484145</td>\n",
       "      <td>-0.648316</td>\n",
       "      <td>-0.517517</td>\n",
       "      <td>0.956110</td>\n",
       "      <td>1.983611</td>\n",
       "      <td>1.751606</td>\n",
       "    </tr>\n",
       "    <tr>\n",
       "      <th>17209</th>\n",
       "      <td>-0.788719</td>\n",
       "      <td>-0.695303</td>\n",
       "      <td>-0.798963</td>\n",
       "      <td>-0.077853</td>\n",
       "      <td>-0.617053</td>\n",
       "      <td>-0.468996</td>\n",
       "      <td>-0.860879</td>\n",
       "      <td>-0.517517</td>\n",
       "      <td>0.956110</td>\n",
       "      <td>1.983611</td>\n",
       "      <td>1.751606</td>\n",
       "    </tr>\n",
       "    <tr>\n",
       "      <th>17210</th>\n",
       "      <td>-0.749742</td>\n",
       "      <td>-0.661210</td>\n",
       "      <td>-0.764257</td>\n",
       "      <td>-0.078168</td>\n",
       "      <td>-0.565906</td>\n",
       "      <td>-0.415082</td>\n",
       "      <td>-0.848369</td>\n",
       "      <td>-0.517517</td>\n",
       "      <td>0.956110</td>\n",
       "      <td>1.983611</td>\n",
       "      <td>1.751606</td>\n",
       "    </tr>\n",
       "    <tr>\n",
       "      <th>17211</th>\n",
       "      <td>-0.730772</td>\n",
       "      <td>-0.559231</td>\n",
       "      <td>-0.805841</td>\n",
       "      <td>-0.317237</td>\n",
       "      <td>-0.534644</td>\n",
       "      <td>-0.381234</td>\n",
       "      <td>-0.893596</td>\n",
       "      <td>-0.517517</td>\n",
       "      <td>0.956110</td>\n",
       "      <td>1.983611</td>\n",
       "      <td>1.751606</td>\n",
       "    </tr>\n",
       "  </tbody>\n",
       "</table>\n",
       "<p>17212 rows × 11 columns</p>\n",
       "</div>"
      ],
      "text/plain": [
       "       Total Volume      4046      4225      4770  Total Bags  Small Bags  \\\n",
       "0         -0.320529 -0.713265  0.136446 -0.517403   -0.641527   -0.496871   \n",
       "1         -0.380153 -0.763681  0.043357 -0.497718   -0.613254   -0.466960   \n",
       "2         -0.057651 -0.745272  0.515208 -0.399749   -0.661829   -0.518868   \n",
       "3         -0.237335 -0.702043  0.277948 -0.473670   -0.759718   -0.624838   \n",
       "4         -0.406565 -0.725197  0.035185 -0.468712   -0.742511   -0.609499   \n",
       "...             ...       ...       ...       ...         ...         ...   \n",
       "17207     -0.736793 -0.617207 -0.874247 -0.815909   -0.493194   -0.349050   \n",
       "17208     -0.786676 -0.695328 -0.737778 -0.815909   -0.621497   -0.484145   \n",
       "17209     -0.788719 -0.695303 -0.798963 -0.077853   -0.617053   -0.468996   \n",
       "17210     -0.749742 -0.661210 -0.764257 -0.078168   -0.565906   -0.415082   \n",
       "17211     -0.730772 -0.559231 -0.805841 -0.317237   -0.534644   -0.381234   \n",
       "\n",
       "       Large Bags  XLarge Bags      type      year    region  \n",
       "0       -0.795019    -0.517517 -1.045905 -1.206427 -1.694905  \n",
       "1       -0.790773    -0.517517 -1.045905 -1.206427 -1.694905  \n",
       "2       -0.785301    -0.517517 -1.045905 -1.206427 -1.694905  \n",
       "3       -0.758678    -0.517517 -1.045905 -1.206427 -1.694905  \n",
       "4       -0.714072    -0.517517 -1.045905 -1.206427 -1.694905  \n",
       "...           ...          ...       ...       ...       ...  \n",
       "17207   -0.605374    -0.517517  0.956110  1.983611  1.751606  \n",
       "17208   -0.648316    -0.517517  0.956110  1.983611  1.751606  \n",
       "17209   -0.860879    -0.517517  0.956110  1.983611  1.751606  \n",
       "17210   -0.848369    -0.517517  0.956110  1.983611  1.751606  \n",
       "17211   -0.893596    -0.517517  0.956110  1.983611  1.751606  \n",
       "\n",
       "[17212 rows x 11 columns]"
      ]
     },
     "execution_count": 102,
     "metadata": {},
     "output_type": "execute_result"
    }
   ],
   "source": [
    "#Feature scaling using StandardScaler\n",
    "from sklearn.preprocessing import StandardScaler\n",
    "scaler=StandardScaler()\n",
    "a=pd.DataFrame(scaler.fit_transform(a),columns=a.columns)\n",
    "a"
   ]
  },
  {
   "cell_type": "code",
   "execution_count": 103,
   "id": "d11c2dc7",
   "metadata": {},
   "outputs": [
    {
     "data": {
      "text/html": [
       "<div>\n",
       "<style scoped>\n",
       "    .dataframe tbody tr th:only-of-type {\n",
       "        vertical-align: middle;\n",
       "    }\n",
       "\n",
       "    .dataframe tbody tr th {\n",
       "        vertical-align: top;\n",
       "    }\n",
       "\n",
       "    .dataframe thead th {\n",
       "        text-align: right;\n",
       "    }\n",
       "</style>\n",
       "<table border=\"1\" class=\"dataframe\">\n",
       "  <thead>\n",
       "    <tr style=\"text-align: right;\">\n",
       "      <th></th>\n",
       "      <th>VIF values</th>\n",
       "      <th>Features</th>\n",
       "    </tr>\n",
       "  </thead>\n",
       "  <tbody>\n",
       "    <tr>\n",
       "      <th>0</th>\n",
       "      <td>171.752545</td>\n",
       "      <td>Total Volume</td>\n",
       "    </tr>\n",
       "    <tr>\n",
       "      <th>1</th>\n",
       "      <td>21.074597</td>\n",
       "      <td>4046</td>\n",
       "    </tr>\n",
       "    <tr>\n",
       "      <th>2</th>\n",
       "      <td>34.981841</td>\n",
       "      <td>4225</td>\n",
       "    </tr>\n",
       "    <tr>\n",
       "      <th>3</th>\n",
       "      <td>2.915160</td>\n",
       "      <td>4770</td>\n",
       "    </tr>\n",
       "    <tr>\n",
       "      <th>4</th>\n",
       "      <td>100.629171</td>\n",
       "      <td>Total Bags</td>\n",
       "    </tr>\n",
       "    <tr>\n",
       "      <th>5</th>\n",
       "      <td>53.563428</td>\n",
       "      <td>Small Bags</td>\n",
       "    </tr>\n",
       "    <tr>\n",
       "      <th>6</th>\n",
       "      <td>8.575400</td>\n",
       "      <td>Large Bags</td>\n",
       "    </tr>\n",
       "    <tr>\n",
       "      <th>7</th>\n",
       "      <td>1.716507</td>\n",
       "      <td>XLarge Bags</td>\n",
       "    </tr>\n",
       "    <tr>\n",
       "      <th>8</th>\n",
       "      <td>2.391418</td>\n",
       "      <td>type</td>\n",
       "    </tr>\n",
       "    <tr>\n",
       "      <th>9</th>\n",
       "      <td>1.311700</td>\n",
       "      <td>year</td>\n",
       "    </tr>\n",
       "    <tr>\n",
       "      <th>10</th>\n",
       "      <td>1.109128</td>\n",
       "      <td>region</td>\n",
       "    </tr>\n",
       "  </tbody>\n",
       "</table>\n",
       "</div>"
      ],
      "text/plain": [
       "    VIF values      Features\n",
       "0   171.752545  Total Volume\n",
       "1    21.074597          4046\n",
       "2    34.981841          4225\n",
       "3     2.915160          4770\n",
       "4   100.629171    Total Bags\n",
       "5    53.563428    Small Bags\n",
       "6     8.575400    Large Bags\n",
       "7     1.716507   XLarge Bags\n",
       "8     2.391418          type\n",
       "9     1.311700          year\n",
       "10    1.109128        region"
      ]
     },
     "execution_count": 103,
     "metadata": {},
     "output_type": "execute_result"
    }
   ],
   "source": [
    "#Finding variance inflation factor in each scaled column i.e x.shape[1] (1/(1-R2))\n",
    "from statsmodels.stats.outliers_influence import variance_inflation_factor\n",
    "vif=pd.DataFrame()\n",
    "vif['VIF values']=[variance_inflation_factor(a.values,i) for i in range(len(a.columns))]\n",
    "vif['Features']=a.columns\n",
    "\n",
    "vif"
   ]
  },
  {
   "cell_type": "markdown",
   "id": "1a5b5150",
   "metadata": {},
   "source": [
    "As earlier seen the small bags and totla volume columns are highly correlated, so we can drop these columns"
   ]
  },
  {
   "cell_type": "code",
   "execution_count": 104,
   "id": "77196ac8",
   "metadata": {},
   "outputs": [],
   "source": [
    "a.drop(columns=['Total Volume','Small Bags'],axis=1,inplace=True)"
   ]
  },
  {
   "cell_type": "code",
   "execution_count": 105,
   "id": "b639ba3a",
   "metadata": {},
   "outputs": [
    {
     "data": {
      "text/html": [
       "<div>\n",
       "<style scoped>\n",
       "    .dataframe tbody tr th:only-of-type {\n",
       "        vertical-align: middle;\n",
       "    }\n",
       "\n",
       "    .dataframe tbody tr th {\n",
       "        vertical-align: top;\n",
       "    }\n",
       "\n",
       "    .dataframe thead th {\n",
       "        text-align: right;\n",
       "    }\n",
       "</style>\n",
       "<table border=\"1\" class=\"dataframe\">\n",
       "  <thead>\n",
       "    <tr style=\"text-align: right;\">\n",
       "      <th></th>\n",
       "      <th>4046</th>\n",
       "      <th>4225</th>\n",
       "      <th>4770</th>\n",
       "      <th>Total Bags</th>\n",
       "      <th>Large Bags</th>\n",
       "      <th>XLarge Bags</th>\n",
       "      <th>type</th>\n",
       "      <th>year</th>\n",
       "      <th>region</th>\n",
       "    </tr>\n",
       "  </thead>\n",
       "  <tbody>\n",
       "    <tr>\n",
       "      <th>0</th>\n",
       "      <td>-0.713265</td>\n",
       "      <td>0.136446</td>\n",
       "      <td>-0.517403</td>\n",
       "      <td>-0.641527</td>\n",
       "      <td>-0.795019</td>\n",
       "      <td>-0.517517</td>\n",
       "      <td>-1.045905</td>\n",
       "      <td>-1.206427</td>\n",
       "      <td>-1.694905</td>\n",
       "    </tr>\n",
       "    <tr>\n",
       "      <th>1</th>\n",
       "      <td>-0.763681</td>\n",
       "      <td>0.043357</td>\n",
       "      <td>-0.497718</td>\n",
       "      <td>-0.613254</td>\n",
       "      <td>-0.790773</td>\n",
       "      <td>-0.517517</td>\n",
       "      <td>-1.045905</td>\n",
       "      <td>-1.206427</td>\n",
       "      <td>-1.694905</td>\n",
       "    </tr>\n",
       "    <tr>\n",
       "      <th>2</th>\n",
       "      <td>-0.745272</td>\n",
       "      <td>0.515208</td>\n",
       "      <td>-0.399749</td>\n",
       "      <td>-0.661829</td>\n",
       "      <td>-0.785301</td>\n",
       "      <td>-0.517517</td>\n",
       "      <td>-1.045905</td>\n",
       "      <td>-1.206427</td>\n",
       "      <td>-1.694905</td>\n",
       "    </tr>\n",
       "    <tr>\n",
       "      <th>3</th>\n",
       "      <td>-0.702043</td>\n",
       "      <td>0.277948</td>\n",
       "      <td>-0.473670</td>\n",
       "      <td>-0.759718</td>\n",
       "      <td>-0.758678</td>\n",
       "      <td>-0.517517</td>\n",
       "      <td>-1.045905</td>\n",
       "      <td>-1.206427</td>\n",
       "      <td>-1.694905</td>\n",
       "    </tr>\n",
       "    <tr>\n",
       "      <th>4</th>\n",
       "      <td>-0.725197</td>\n",
       "      <td>0.035185</td>\n",
       "      <td>-0.468712</td>\n",
       "      <td>-0.742511</td>\n",
       "      <td>-0.714072</td>\n",
       "      <td>-0.517517</td>\n",
       "      <td>-1.045905</td>\n",
       "      <td>-1.206427</td>\n",
       "      <td>-1.694905</td>\n",
       "    </tr>\n",
       "    <tr>\n",
       "      <th>...</th>\n",
       "      <td>...</td>\n",
       "      <td>...</td>\n",
       "      <td>...</td>\n",
       "      <td>...</td>\n",
       "      <td>...</td>\n",
       "      <td>...</td>\n",
       "      <td>...</td>\n",
       "      <td>...</td>\n",
       "      <td>...</td>\n",
       "    </tr>\n",
       "    <tr>\n",
       "      <th>17207</th>\n",
       "      <td>-0.617207</td>\n",
       "      <td>-0.874247</td>\n",
       "      <td>-0.815909</td>\n",
       "      <td>-0.493194</td>\n",
       "      <td>-0.605374</td>\n",
       "      <td>-0.517517</td>\n",
       "      <td>0.956110</td>\n",
       "      <td>1.983611</td>\n",
       "      <td>1.751606</td>\n",
       "    </tr>\n",
       "    <tr>\n",
       "      <th>17208</th>\n",
       "      <td>-0.695328</td>\n",
       "      <td>-0.737778</td>\n",
       "      <td>-0.815909</td>\n",
       "      <td>-0.621497</td>\n",
       "      <td>-0.648316</td>\n",
       "      <td>-0.517517</td>\n",
       "      <td>0.956110</td>\n",
       "      <td>1.983611</td>\n",
       "      <td>1.751606</td>\n",
       "    </tr>\n",
       "    <tr>\n",
       "      <th>17209</th>\n",
       "      <td>-0.695303</td>\n",
       "      <td>-0.798963</td>\n",
       "      <td>-0.077853</td>\n",
       "      <td>-0.617053</td>\n",
       "      <td>-0.860879</td>\n",
       "      <td>-0.517517</td>\n",
       "      <td>0.956110</td>\n",
       "      <td>1.983611</td>\n",
       "      <td>1.751606</td>\n",
       "    </tr>\n",
       "    <tr>\n",
       "      <th>17210</th>\n",
       "      <td>-0.661210</td>\n",
       "      <td>-0.764257</td>\n",
       "      <td>-0.078168</td>\n",
       "      <td>-0.565906</td>\n",
       "      <td>-0.848369</td>\n",
       "      <td>-0.517517</td>\n",
       "      <td>0.956110</td>\n",
       "      <td>1.983611</td>\n",
       "      <td>1.751606</td>\n",
       "    </tr>\n",
       "    <tr>\n",
       "      <th>17211</th>\n",
       "      <td>-0.559231</td>\n",
       "      <td>-0.805841</td>\n",
       "      <td>-0.317237</td>\n",
       "      <td>-0.534644</td>\n",
       "      <td>-0.893596</td>\n",
       "      <td>-0.517517</td>\n",
       "      <td>0.956110</td>\n",
       "      <td>1.983611</td>\n",
       "      <td>1.751606</td>\n",
       "    </tr>\n",
       "  </tbody>\n",
       "</table>\n",
       "<p>17212 rows × 9 columns</p>\n",
       "</div>"
      ],
      "text/plain": [
       "           4046      4225      4770  Total Bags  Large Bags  XLarge Bags  \\\n",
       "0     -0.713265  0.136446 -0.517403   -0.641527   -0.795019    -0.517517   \n",
       "1     -0.763681  0.043357 -0.497718   -0.613254   -0.790773    -0.517517   \n",
       "2     -0.745272  0.515208 -0.399749   -0.661829   -0.785301    -0.517517   \n",
       "3     -0.702043  0.277948 -0.473670   -0.759718   -0.758678    -0.517517   \n",
       "4     -0.725197  0.035185 -0.468712   -0.742511   -0.714072    -0.517517   \n",
       "...         ...       ...       ...         ...         ...          ...   \n",
       "17207 -0.617207 -0.874247 -0.815909   -0.493194   -0.605374    -0.517517   \n",
       "17208 -0.695328 -0.737778 -0.815909   -0.621497   -0.648316    -0.517517   \n",
       "17209 -0.695303 -0.798963 -0.077853   -0.617053   -0.860879    -0.517517   \n",
       "17210 -0.661210 -0.764257 -0.078168   -0.565906   -0.848369    -0.517517   \n",
       "17211 -0.559231 -0.805841 -0.317237   -0.534644   -0.893596    -0.517517   \n",
       "\n",
       "           type      year    region  \n",
       "0     -1.045905 -1.206427 -1.694905  \n",
       "1     -1.045905 -1.206427 -1.694905  \n",
       "2     -1.045905 -1.206427 -1.694905  \n",
       "3     -1.045905 -1.206427 -1.694905  \n",
       "4     -1.045905 -1.206427 -1.694905  \n",
       "...         ...       ...       ...  \n",
       "17207  0.956110  1.983611  1.751606  \n",
       "17208  0.956110  1.983611  1.751606  \n",
       "17209  0.956110  1.983611  1.751606  \n",
       "17210  0.956110  1.983611  1.751606  \n",
       "17211  0.956110  1.983611  1.751606  \n",
       "\n",
       "[17212 rows x 9 columns]"
      ]
     },
     "execution_count": 105,
     "metadata": {},
     "output_type": "execute_result"
    }
   ],
   "source": [
    "a"
   ]
  },
  {
   "cell_type": "code",
   "execution_count": 106,
   "id": "f4550d97",
   "metadata": {},
   "outputs": [],
   "source": [
    "a_train,a_test,b_train,b_test=train_test_split(a,b,test_size=0.30,random_state=50)"
   ]
  },
  {
   "cell_type": "code",
   "execution_count": 108,
   "id": "96908fd4",
   "metadata": {},
   "outputs": [
    {
     "data": {
      "text/plain": [
       "(12048, 9)"
      ]
     },
     "execution_count": 108,
     "metadata": {},
     "output_type": "execute_result"
    }
   ],
   "source": [
    "a_train.shape"
   ]
  },
  {
   "cell_type": "code",
   "execution_count": 109,
   "id": "1ac628af",
   "metadata": {},
   "outputs": [
    {
     "data": {
      "text/plain": [
       "(5164, 9)"
      ]
     },
     "execution_count": 109,
     "metadata": {},
     "output_type": "execute_result"
    }
   ],
   "source": [
    "a_test.shape"
   ]
  },
  {
   "cell_type": "code",
   "execution_count": 110,
   "id": "88d7fa96",
   "metadata": {},
   "outputs": [
    {
     "data": {
      "text/plain": [
       "(12048,)"
      ]
     },
     "execution_count": 110,
     "metadata": {},
     "output_type": "execute_result"
    }
   ],
   "source": [
    "b_train.shape"
   ]
  },
  {
   "cell_type": "code",
   "execution_count": 111,
   "id": "3a76b355",
   "metadata": {},
   "outputs": [
    {
     "data": {
      "text/plain": [
       "(5164,)"
      ]
     },
     "execution_count": 111,
     "metadata": {},
     "output_type": "execute_result"
    }
   ],
   "source": [
    "b_test.shape"
   ]
  },
  {
   "cell_type": "code",
   "execution_count": 113,
   "id": "8636c6d7",
   "metadata": {},
   "outputs": [],
   "source": [
    "from sklearn.neighbors import KNeighborsRegressor"
   ]
  },
  {
   "cell_type": "code",
   "execution_count": 114,
   "id": "9cf83b65",
   "metadata": {},
   "outputs": [
    {
     "data": {
      "text/plain": [
       "KNeighborsRegressor()"
      ]
     },
     "execution_count": 114,
     "metadata": {},
     "output_type": "execute_result"
    }
   ],
   "source": [
    "kNN = KNeighborsRegressor()\n",
    "kNN.fit(a_train,b_train)"
   ]
  },
  {
   "cell_type": "code",
   "execution_count": 118,
   "id": "208d26ad",
   "metadata": {},
   "outputs": [
    {
     "data": {
      "text/plain": [
       "array([1.162, 1.354, 1.354, ..., 1.342, 1.098, 1.508])"
      ]
     },
     "execution_count": 118,
     "metadata": {},
     "output_type": "execute_result"
    }
   ],
   "source": [
    "#predicting the value\n",
    "predkNN = kNN.predict(a_test)\n",
    "predkNN"
   ]
  },
  {
   "cell_type": "code",
   "execution_count": 119,
   "id": "ac93c8a4",
   "metadata": {},
   "outputs": [
    {
     "data": {
      "text/plain": [
       "0.8313140159334698"
      ]
     },
     "execution_count": 119,
     "metadata": {},
     "output_type": "execute_result"
    }
   ],
   "source": [
    "#model Score\n",
    "kNN.score(a_test,b_test)"
   ]
  },
  {
   "cell_type": "code",
   "execution_count": 121,
   "id": "7da6c303",
   "metadata": {},
   "outputs": [
    {
     "name": "stdout",
     "output_type": "stream",
     "text": [
      "Mean absolute error is-- 0.11272463206816422\n",
      "Mean squared error is-- 0.025923983733539893\n",
      "Root mean squared error is-- 0.16100926598658816\n"
     ]
    }
   ],
   "source": [
    "print('Mean absolute error is--',mean_absolute_error(predkNN,b_test))\n",
    "print('Mean squared error is--',mean_squared_error(predkNN,b_test))\n",
    "print('Root mean squared error is--',np.sqrt(mean_squared_error(predkNN,b_test)))"
   ]
  },
  {
   "cell_type": "code",
   "execution_count": 123,
   "id": "099e5fbb",
   "metadata": {},
   "outputs": [
    {
     "data": {
      "text/plain": [
       "LassoCV(normalize=True)"
      ]
     },
     "execution_count": 123,
     "metadata": {},
     "output_type": "execute_result"
    }
   ],
   "source": [
    "#Lasso CV \n",
    "lacv = LassoCV(alphas = None, max_iter = 1000,normalize = True)\n",
    "lacv.fit(a_train,b_train)"
   ]
  },
  {
   "cell_type": "code",
   "execution_count": 124,
   "id": "78eda817",
   "metadata": {},
   "outputs": [
    {
     "data": {
      "text/plain": [
       "2.1019817439244826e-06"
      ]
     },
     "execution_count": 124,
     "metadata": {},
     "output_type": "execute_result"
    }
   ],
   "source": [
    "#alpha\n",
    "alpha = lacv.alpha_\n",
    "alpha"
   ]
  },
  {
   "cell_type": "code",
   "execution_count": 126,
   "id": "5342a821",
   "metadata": {},
   "outputs": [
    {
     "data": {
      "text/plain": [
       "Lasso(alpha=2.1019817439244826e-06)"
      ]
     },
     "execution_count": 126,
     "metadata": {},
     "output_type": "execute_result"
    }
   ],
   "source": [
    "#Lasso for model accuracy\n",
    "lasso = Lasso(alpha)\n",
    "lasso.fit(a_train,b_train)"
   ]
  },
  {
   "cell_type": "code",
   "execution_count": 127,
   "id": "16910c65",
   "metadata": {},
   "outputs": [
    {
     "data": {
      "text/plain": [
       "0.47664130875940525"
      ]
     },
     "execution_count": 127,
     "metadata": {},
     "output_type": "execute_result"
    }
   ],
   "source": [
    "#Lasso Score \n",
    "lasso.score(a_test,b_test)"
   ]
  },
  {
   "cell_type": "code",
   "execution_count": 128,
   "id": "f1166760",
   "metadata": {},
   "outputs": [
    {
     "data": {
      "text/plain": [
       "RidgeCV(alphas=array([0.001, 0.011, 0.021, 0.031, 0.041, 0.051, 0.061, 0.071, 0.081,\n",
       "       0.091]),\n",
       "        normalize=True)"
      ]
     },
     "execution_count": 128,
     "metadata": {},
     "output_type": "execute_result"
    }
   ],
   "source": [
    "#RidgeCV score \n",
    "ridcv = RidgeCV(alphas = np.arange(0.001,0.1,0.01),normalize = True)\n",
    "ridcv.fit(a_train,b_train)"
   ]
  },
  {
   "cell_type": "code",
   "execution_count": 129,
   "id": "bed8d941",
   "metadata": {},
   "outputs": [
    {
     "data": {
      "text/plain": [
       "0.001"
      ]
     },
     "execution_count": 129,
     "metadata": {},
     "output_type": "execute_result"
    }
   ],
   "source": [
    "ridcv.alpha_"
   ]
  },
  {
   "cell_type": "code",
   "execution_count": 130,
   "id": "64c1da28",
   "metadata": {},
   "outputs": [
    {
     "data": {
      "text/plain": [
       "Ridge(alpha=0.001)"
      ]
     },
     "execution_count": 130,
     "metadata": {},
     "output_type": "execute_result"
    }
   ],
   "source": [
    "rd = Ridge(alpha = ridcv.alpha_)\n",
    "rd.fit(a_train,b_train)"
   ]
  },
  {
   "cell_type": "code",
   "execution_count": 131,
   "id": "9fc5b3d7",
   "metadata": {},
   "outputs": [
    {
     "data": {
      "text/plain": [
       "0.4766423101899554"
      ]
     },
     "execution_count": 131,
     "metadata": {},
     "output_type": "execute_result"
    }
   ],
   "source": [
    "rd.score(a_test,b_test)"
   ]
  },
  {
   "cell_type": "markdown",
   "id": "79464a21",
   "metadata": {},
   "source": [
    "# Saving the model"
   ]
  },
  {
   "cell_type": "code",
   "execution_count": 132,
   "id": "35fbf616",
   "metadata": {},
   "outputs": [
    {
     "data": {
      "text/plain": [
       "['knnfile.obj']"
      ]
     },
     "execution_count": 132,
     "metadata": {},
     "output_type": "execute_result"
    }
   ],
   "source": [
    "import joblib\n",
    "\n",
    "joblib.dump(knn,'knnfile.obj')"
   ]
  },
  {
   "cell_type": "markdown",
   "id": "e3e7866d",
   "metadata": {},
   "source": [
    "# Loading the model for prediction"
   ]
  },
  {
   "cell_type": "code",
   "execution_count": 133,
   "id": "e7615e14",
   "metadata": {},
   "outputs": [
    {
     "data": {
      "text/plain": [
       "array([21, 50, 39, ..., 41, 37, 11])"
      ]
     },
     "execution_count": 133,
     "metadata": {},
     "output_type": "execute_result"
    }
   ],
   "source": [
    "model=joblib.load('knnfile.obj')\n",
    "\n",
    "prediction=model.predict(x_test)\n",
    "prediction"
   ]
  },
  {
   "cell_type": "code",
   "execution_count": null,
   "id": "4affe4e6",
   "metadata": {},
   "outputs": [],
   "source": []
  }
 ],
 "metadata": {
  "kernelspec": {
   "display_name": "Python 3 (ipykernel)",
   "language": "python",
   "name": "python3"
  },
  "language_info": {
   "codemirror_mode": {
    "name": "ipython",
    "version": 3
   },
   "file_extension": ".py",
   "mimetype": "text/x-python",
   "name": "python",
   "nbconvert_exporter": "python",
   "pygments_lexer": "ipython3",
   "version": "3.9.13"
  }
 },
 "nbformat": 4,
 "nbformat_minor": 5
}
